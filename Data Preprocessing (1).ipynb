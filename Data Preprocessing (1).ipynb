{
 "cells": [
  {
   "cell_type": "markdown",
   "metadata": {},
   "source": [
    "# Analyzing borrowers’ risk of defaulting\n",
    "\n",
    "Your project is to prepare a report for a bank’s loan division. You’ll need to find out if a customer’s marital status and number of children has an impact on whether they will default on a loan. The bank already has some data on customers’ credit worthiness.\n",
    "\n",
    "Your report will be considered when building a **credit scoring** of a potential customer. A ** credit scoring ** is used to evaluate the ability of a potential borrower to repay their loan."
   ]
  },
  {
   "cell_type": "markdown",
   "metadata": {},
   "source": [
    "## Open the data file and have a look at the general information. "
   ]
  },
  {
   "cell_type": "code",
   "execution_count": 1,
   "metadata": {
    "scrolled": true
   },
   "outputs": [
    {
     "data": {
      "text/html": [
       "<div>\n",
       "<style scoped>\n",
       "    .dataframe tbody tr th:only-of-type {\n",
       "        vertical-align: middle;\n",
       "    }\n",
       "\n",
       "    .dataframe tbody tr th {\n",
       "        vertical-align: top;\n",
       "    }\n",
       "\n",
       "    .dataframe thead th {\n",
       "        text-align: right;\n",
       "    }\n",
       "</style>\n",
       "<table border=\"1\" class=\"dataframe\">\n",
       "  <thead>\n",
       "    <tr style=\"text-align: right;\">\n",
       "      <th></th>\n",
       "      <th>children</th>\n",
       "      <th>days_employed</th>\n",
       "      <th>dob_years</th>\n",
       "      <th>education</th>\n",
       "      <th>education_id</th>\n",
       "      <th>family_status</th>\n",
       "      <th>family_status_id</th>\n",
       "      <th>gender</th>\n",
       "      <th>income_type</th>\n",
       "      <th>debt</th>\n",
       "      <th>total_income</th>\n",
       "      <th>purpose</th>\n",
       "    </tr>\n",
       "  </thead>\n",
       "  <tbody>\n",
       "    <tr>\n",
       "      <td>0</td>\n",
       "      <td>1</td>\n",
       "      <td>-8437.673028</td>\n",
       "      <td>42</td>\n",
       "      <td>bachelor's degree</td>\n",
       "      <td>0</td>\n",
       "      <td>married</td>\n",
       "      <td>0</td>\n",
       "      <td>F</td>\n",
       "      <td>employee</td>\n",
       "      <td>0</td>\n",
       "      <td>40620.102</td>\n",
       "      <td>purchase of the house</td>\n",
       "    </tr>\n",
       "    <tr>\n",
       "      <td>1</td>\n",
       "      <td>1</td>\n",
       "      <td>-4024.803754</td>\n",
       "      <td>36</td>\n",
       "      <td>secondary education</td>\n",
       "      <td>1</td>\n",
       "      <td>married</td>\n",
       "      <td>0</td>\n",
       "      <td>F</td>\n",
       "      <td>employee</td>\n",
       "      <td>0</td>\n",
       "      <td>17932.802</td>\n",
       "      <td>car purchase</td>\n",
       "    </tr>\n",
       "    <tr>\n",
       "      <td>2</td>\n",
       "      <td>0</td>\n",
       "      <td>-5623.422610</td>\n",
       "      <td>33</td>\n",
       "      <td>Secondary Education</td>\n",
       "      <td>1</td>\n",
       "      <td>married</td>\n",
       "      <td>0</td>\n",
       "      <td>M</td>\n",
       "      <td>employee</td>\n",
       "      <td>0</td>\n",
       "      <td>23341.752</td>\n",
       "      <td>purchase of the house</td>\n",
       "    </tr>\n",
       "    <tr>\n",
       "      <td>3</td>\n",
       "      <td>3</td>\n",
       "      <td>-4124.747207</td>\n",
       "      <td>32</td>\n",
       "      <td>secondary education</td>\n",
       "      <td>1</td>\n",
       "      <td>married</td>\n",
       "      <td>0</td>\n",
       "      <td>M</td>\n",
       "      <td>employee</td>\n",
       "      <td>0</td>\n",
       "      <td>42820.568</td>\n",
       "      <td>supplementary education</td>\n",
       "    </tr>\n",
       "    <tr>\n",
       "      <td>4</td>\n",
       "      <td>0</td>\n",
       "      <td>340266.072047</td>\n",
       "      <td>53</td>\n",
       "      <td>secondary education</td>\n",
       "      <td>1</td>\n",
       "      <td>civil partnership</td>\n",
       "      <td>1</td>\n",
       "      <td>F</td>\n",
       "      <td>retiree</td>\n",
       "      <td>0</td>\n",
       "      <td>25378.572</td>\n",
       "      <td>to have a wedding</td>\n",
       "    </tr>\n",
       "    <tr>\n",
       "      <td>5</td>\n",
       "      <td>0</td>\n",
       "      <td>-926.185831</td>\n",
       "      <td>27</td>\n",
       "      <td>bachelor's degree</td>\n",
       "      <td>0</td>\n",
       "      <td>civil partnership</td>\n",
       "      <td>1</td>\n",
       "      <td>M</td>\n",
       "      <td>business</td>\n",
       "      <td>0</td>\n",
       "      <td>40922.170</td>\n",
       "      <td>purchase of the house</td>\n",
       "    </tr>\n",
       "    <tr>\n",
       "      <td>6</td>\n",
       "      <td>0</td>\n",
       "      <td>-2879.202052</td>\n",
       "      <td>43</td>\n",
       "      <td>bachelor's degree</td>\n",
       "      <td>0</td>\n",
       "      <td>married</td>\n",
       "      <td>0</td>\n",
       "      <td>F</td>\n",
       "      <td>business</td>\n",
       "      <td>0</td>\n",
       "      <td>38484.156</td>\n",
       "      <td>housing transactions</td>\n",
       "    </tr>\n",
       "    <tr>\n",
       "      <td>7</td>\n",
       "      <td>0</td>\n",
       "      <td>-152.779569</td>\n",
       "      <td>50</td>\n",
       "      <td>SECONDARY EDUCATION</td>\n",
       "      <td>1</td>\n",
       "      <td>married</td>\n",
       "      <td>0</td>\n",
       "      <td>M</td>\n",
       "      <td>employee</td>\n",
       "      <td>0</td>\n",
       "      <td>21731.829</td>\n",
       "      <td>education</td>\n",
       "    </tr>\n",
       "    <tr>\n",
       "      <td>8</td>\n",
       "      <td>2</td>\n",
       "      <td>-6929.865299</td>\n",
       "      <td>35</td>\n",
       "      <td>BACHELOR'S DEGREE</td>\n",
       "      <td>0</td>\n",
       "      <td>civil partnership</td>\n",
       "      <td>1</td>\n",
       "      <td>F</td>\n",
       "      <td>employee</td>\n",
       "      <td>0</td>\n",
       "      <td>15337.093</td>\n",
       "      <td>having a wedding</td>\n",
       "    </tr>\n",
       "    <tr>\n",
       "      <td>9</td>\n",
       "      <td>0</td>\n",
       "      <td>-2188.756445</td>\n",
       "      <td>41</td>\n",
       "      <td>secondary education</td>\n",
       "      <td>1</td>\n",
       "      <td>married</td>\n",
       "      <td>0</td>\n",
       "      <td>M</td>\n",
       "      <td>employee</td>\n",
       "      <td>0</td>\n",
       "      <td>23108.150</td>\n",
       "      <td>purchase of the house for my family</td>\n",
       "    </tr>\n",
       "    <tr>\n",
       "      <td>10</td>\n",
       "      <td>2</td>\n",
       "      <td>-4171.483647</td>\n",
       "      <td>36</td>\n",
       "      <td>bachelor's degree</td>\n",
       "      <td>0</td>\n",
       "      <td>married</td>\n",
       "      <td>0</td>\n",
       "      <td>M</td>\n",
       "      <td>business</td>\n",
       "      <td>0</td>\n",
       "      <td>18230.959</td>\n",
       "      <td>buy real estate</td>\n",
       "    </tr>\n",
       "    <tr>\n",
       "      <td>11</td>\n",
       "      <td>0</td>\n",
       "      <td>-792.701887</td>\n",
       "      <td>40</td>\n",
       "      <td>secondary education</td>\n",
       "      <td>1</td>\n",
       "      <td>married</td>\n",
       "      <td>0</td>\n",
       "      <td>F</td>\n",
       "      <td>employee</td>\n",
       "      <td>0</td>\n",
       "      <td>12331.077</td>\n",
       "      <td>buy commercial real estate</td>\n",
       "    </tr>\n",
       "    <tr>\n",
       "      <td>12</td>\n",
       "      <td>0</td>\n",
       "      <td>NaN</td>\n",
       "      <td>65</td>\n",
       "      <td>secondary education</td>\n",
       "      <td>1</td>\n",
       "      <td>civil partnership</td>\n",
       "      <td>1</td>\n",
       "      <td>M</td>\n",
       "      <td>retiree</td>\n",
       "      <td>0</td>\n",
       "      <td>NaN</td>\n",
       "      <td>to have a wedding</td>\n",
       "    </tr>\n",
       "    <tr>\n",
       "      <td>13</td>\n",
       "      <td>0</td>\n",
       "      <td>-1846.641941</td>\n",
       "      <td>54</td>\n",
       "      <td>some college</td>\n",
       "      <td>2</td>\n",
       "      <td>married</td>\n",
       "      <td>0</td>\n",
       "      <td>F</td>\n",
       "      <td>employee</td>\n",
       "      <td>0</td>\n",
       "      <td>20873.317</td>\n",
       "      <td>car purchase</td>\n",
       "    </tr>\n",
       "    <tr>\n",
       "      <td>14</td>\n",
       "      <td>0</td>\n",
       "      <td>-1844.956182</td>\n",
       "      <td>56</td>\n",
       "      <td>bachelor's degree</td>\n",
       "      <td>0</td>\n",
       "      <td>civil partnership</td>\n",
       "      <td>1</td>\n",
       "      <td>F</td>\n",
       "      <td>business</td>\n",
       "      <td>1</td>\n",
       "      <td>26420.466</td>\n",
       "      <td>buy residential real estate</td>\n",
       "    </tr>\n",
       "  </tbody>\n",
       "</table>\n",
       "</div>"
      ],
      "text/plain": [
       "    children  days_employed  dob_years            education  education_id  \\\n",
       "0          1   -8437.673028         42    bachelor's degree             0   \n",
       "1          1   -4024.803754         36  secondary education             1   \n",
       "2          0   -5623.422610         33  Secondary Education             1   \n",
       "3          3   -4124.747207         32  secondary education             1   \n",
       "4          0  340266.072047         53  secondary education             1   \n",
       "5          0    -926.185831         27    bachelor's degree             0   \n",
       "6          0   -2879.202052         43    bachelor's degree             0   \n",
       "7          0    -152.779569         50  SECONDARY EDUCATION             1   \n",
       "8          2   -6929.865299         35    BACHELOR'S DEGREE             0   \n",
       "9          0   -2188.756445         41  secondary education             1   \n",
       "10         2   -4171.483647         36    bachelor's degree             0   \n",
       "11         0    -792.701887         40  secondary education             1   \n",
       "12         0            NaN         65  secondary education             1   \n",
       "13         0   -1846.641941         54         some college             2   \n",
       "14         0   -1844.956182         56    bachelor's degree             0   \n",
       "\n",
       "        family_status  family_status_id gender income_type  debt  \\\n",
       "0             married                 0      F    employee     0   \n",
       "1             married                 0      F    employee     0   \n",
       "2             married                 0      M    employee     0   \n",
       "3             married                 0      M    employee     0   \n",
       "4   civil partnership                 1      F     retiree     0   \n",
       "5   civil partnership                 1      M    business     0   \n",
       "6             married                 0      F    business     0   \n",
       "7             married                 0      M    employee     0   \n",
       "8   civil partnership                 1      F    employee     0   \n",
       "9             married                 0      M    employee     0   \n",
       "10            married                 0      M    business     0   \n",
       "11            married                 0      F    employee     0   \n",
       "12  civil partnership                 1      M     retiree     0   \n",
       "13            married                 0      F    employee     0   \n",
       "14  civil partnership                 1      F    business     1   \n",
       "\n",
       "    total_income                              purpose  \n",
       "0      40620.102                purchase of the house  \n",
       "1      17932.802                         car purchase  \n",
       "2      23341.752                purchase of the house  \n",
       "3      42820.568              supplementary education  \n",
       "4      25378.572                    to have a wedding  \n",
       "5      40922.170                purchase of the house  \n",
       "6      38484.156                 housing transactions  \n",
       "7      21731.829                            education  \n",
       "8      15337.093                     having a wedding  \n",
       "9      23108.150  purchase of the house for my family  \n",
       "10     18230.959                      buy real estate  \n",
       "11     12331.077           buy commercial real estate  \n",
       "12           NaN                    to have a wedding  \n",
       "13     20873.317                         car purchase  \n",
       "14     26420.466          buy residential real estate  "
      ]
     },
     "execution_count": 1,
     "metadata": {},
     "output_type": "execute_result"
    }
   ],
   "source": [
    "import pandas as pd\n",
    "report = pd.read_csv('/datasets/credit_scoring_eng.csv')\n",
    "report.head(15)"
   ]
  },
  {
   "cell_type": "code",
   "execution_count": 2,
   "metadata": {},
   "outputs": [
    {
     "name": "stdout",
     "output_type": "stream",
     "text": [
      "<class 'pandas.core.frame.DataFrame'>\n",
      "RangeIndex: 21525 entries, 0 to 21524\n",
      "Data columns (total 12 columns):\n",
      "children            21525 non-null int64\n",
      "days_employed       19351 non-null float64\n",
      "dob_years           21525 non-null int64\n",
      "education           21525 non-null object\n",
      "education_id        21525 non-null int64\n",
      "family_status       21525 non-null object\n",
      "family_status_id    21525 non-null int64\n",
      "gender              21525 non-null object\n",
      "income_type         21525 non-null object\n",
      "debt                21525 non-null int64\n",
      "total_income        19351 non-null float64\n",
      "purpose             21525 non-null object\n",
      "dtypes: float64(2), int64(5), object(5)\n",
      "memory usage: 2.0+ MB\n"
     ]
    }
   ],
   "source": [
    "report.info()"
   ]
  },
  {
   "cell_type": "code",
   "execution_count": 3,
   "metadata": {},
   "outputs": [
    {
     "data": {
      "text/html": [
       "<div>\n",
       "<style scoped>\n",
       "    .dataframe tbody tr th:only-of-type {\n",
       "        vertical-align: middle;\n",
       "    }\n",
       "\n",
       "    .dataframe tbody tr th {\n",
       "        vertical-align: top;\n",
       "    }\n",
       "\n",
       "    .dataframe thead th {\n",
       "        text-align: right;\n",
       "    }\n",
       "</style>\n",
       "<table border=\"1\" class=\"dataframe\">\n",
       "  <thead>\n",
       "    <tr style=\"text-align: right;\">\n",
       "      <th></th>\n",
       "      <th>children</th>\n",
       "      <th>days_employed</th>\n",
       "      <th>dob_years</th>\n",
       "      <th>education_id</th>\n",
       "      <th>family_status_id</th>\n",
       "      <th>debt</th>\n",
       "      <th>total_income</th>\n",
       "    </tr>\n",
       "  </thead>\n",
       "  <tbody>\n",
       "    <tr>\n",
       "      <td>count</td>\n",
       "      <td>21525.000000</td>\n",
       "      <td>19351.000000</td>\n",
       "      <td>21525.000000</td>\n",
       "      <td>21525.000000</td>\n",
       "      <td>21525.000000</td>\n",
       "      <td>21525.000000</td>\n",
       "      <td>19351.000000</td>\n",
       "    </tr>\n",
       "    <tr>\n",
       "      <td>mean</td>\n",
       "      <td>0.538908</td>\n",
       "      <td>63046.497661</td>\n",
       "      <td>43.293380</td>\n",
       "      <td>0.817236</td>\n",
       "      <td>0.972544</td>\n",
       "      <td>0.080883</td>\n",
       "      <td>26787.568355</td>\n",
       "    </tr>\n",
       "    <tr>\n",
       "      <td>std</td>\n",
       "      <td>1.381587</td>\n",
       "      <td>140827.311974</td>\n",
       "      <td>12.574584</td>\n",
       "      <td>0.548138</td>\n",
       "      <td>1.420324</td>\n",
       "      <td>0.272661</td>\n",
       "      <td>16475.450632</td>\n",
       "    </tr>\n",
       "    <tr>\n",
       "      <td>min</td>\n",
       "      <td>-1.000000</td>\n",
       "      <td>-18388.949901</td>\n",
       "      <td>0.000000</td>\n",
       "      <td>0.000000</td>\n",
       "      <td>0.000000</td>\n",
       "      <td>0.000000</td>\n",
       "      <td>3306.762000</td>\n",
       "    </tr>\n",
       "    <tr>\n",
       "      <td>25%</td>\n",
       "      <td>0.000000</td>\n",
       "      <td>-2747.423625</td>\n",
       "      <td>33.000000</td>\n",
       "      <td>1.000000</td>\n",
       "      <td>0.000000</td>\n",
       "      <td>0.000000</td>\n",
       "      <td>16488.504500</td>\n",
       "    </tr>\n",
       "    <tr>\n",
       "      <td>50%</td>\n",
       "      <td>0.000000</td>\n",
       "      <td>-1203.369529</td>\n",
       "      <td>42.000000</td>\n",
       "      <td>1.000000</td>\n",
       "      <td>0.000000</td>\n",
       "      <td>0.000000</td>\n",
       "      <td>23202.870000</td>\n",
       "    </tr>\n",
       "    <tr>\n",
       "      <td>75%</td>\n",
       "      <td>1.000000</td>\n",
       "      <td>-291.095954</td>\n",
       "      <td>53.000000</td>\n",
       "      <td>1.000000</td>\n",
       "      <td>1.000000</td>\n",
       "      <td>0.000000</td>\n",
       "      <td>32549.611000</td>\n",
       "    </tr>\n",
       "    <tr>\n",
       "      <td>max</td>\n",
       "      <td>20.000000</td>\n",
       "      <td>401755.400475</td>\n",
       "      <td>75.000000</td>\n",
       "      <td>4.000000</td>\n",
       "      <td>4.000000</td>\n",
       "      <td>1.000000</td>\n",
       "      <td>362496.645000</td>\n",
       "    </tr>\n",
       "  </tbody>\n",
       "</table>\n",
       "</div>"
      ],
      "text/plain": [
       "           children  days_employed     dob_years  education_id  \\\n",
       "count  21525.000000   19351.000000  21525.000000  21525.000000   \n",
       "mean       0.538908   63046.497661     43.293380      0.817236   \n",
       "std        1.381587  140827.311974     12.574584      0.548138   \n",
       "min       -1.000000  -18388.949901      0.000000      0.000000   \n",
       "25%        0.000000   -2747.423625     33.000000      1.000000   \n",
       "50%        0.000000   -1203.369529     42.000000      1.000000   \n",
       "75%        1.000000    -291.095954     53.000000      1.000000   \n",
       "max       20.000000  401755.400475     75.000000      4.000000   \n",
       "\n",
       "       family_status_id          debt   total_income  \n",
       "count      21525.000000  21525.000000   19351.000000  \n",
       "mean           0.972544      0.080883   26787.568355  \n",
       "std            1.420324      0.272661   16475.450632  \n",
       "min            0.000000      0.000000    3306.762000  \n",
       "25%            0.000000      0.000000   16488.504500  \n",
       "50%            0.000000      0.000000   23202.870000  \n",
       "75%            1.000000      0.000000   32549.611000  \n",
       "max            4.000000      1.000000  362496.645000  "
      ]
     },
     "execution_count": 3,
     "metadata": {},
     "output_type": "execute_result"
    }
   ],
   "source": [
    "report.describe()"
   ]
  },
  {
   "cell_type": "markdown",
   "metadata": {},
   "source": [
    "### Conclusion"
   ]
  },
  {
   "cell_type": "markdown",
   "metadata": {},
   "source": [
    "The table consists from 12 columns and 21525 rows. Data types are float64 - 2 columns, int64 - 5 columns and object - 5 columns. On the first look the names of columns are normal without any anomalies. \n",
    "In this table there are few problems on the first look. I see missing values in columns 'days_employed' and 'total_income'. Since the amount of missing values for those columns is equal I can think that need to check connection between them. Also I can see non-logical values in the columns days_employed (negative values and too big values), children (negative values and too big(need to check)) and different case register in the 'education' column."
   ]
  },
  {
   "cell_type": "markdown",
   "metadata": {},
   "source": [
    "## Data preprocessing"
   ]
  },
  {
   "cell_type": "markdown",
   "metadata": {},
   "source": [
    "### Processing missing values"
   ]
  },
  {
   "cell_type": "code",
   "execution_count": 4,
   "metadata": {},
   "outputs": [
    {
     "data": {
      "text/plain": [
       "children               0\n",
       "days_employed       2174\n",
       "dob_years              0\n",
       "education              0\n",
       "education_id           0\n",
       "family_status          0\n",
       "family_status_id       0\n",
       "gender                 0\n",
       "income_type            0\n",
       "debt                   0\n",
       "total_income        2174\n",
       "purpose                0\n",
       "dtype: int64"
      ]
     },
     "execution_count": 4,
     "metadata": {},
     "output_type": "execute_result"
    }
   ],
   "source": [
    "report.isnull().sum()"
   ]
  },
  {
   "cell_type": "code",
   "execution_count": 5,
   "metadata": {},
   "outputs": [
    {
     "data": {
      "text/html": [
       "<div>\n",
       "<style scoped>\n",
       "    .dataframe tbody tr th:only-of-type {\n",
       "        vertical-align: middle;\n",
       "    }\n",
       "\n",
       "    .dataframe tbody tr th {\n",
       "        vertical-align: top;\n",
       "    }\n",
       "\n",
       "    .dataframe thead th {\n",
       "        text-align: right;\n",
       "    }\n",
       "</style>\n",
       "<table border=\"1\" class=\"dataframe\">\n",
       "  <thead>\n",
       "    <tr style=\"text-align: right;\">\n",
       "      <th></th>\n",
       "      <th>dob_years</th>\n",
       "      <th>days_employed</th>\n",
       "      <th>total_income</th>\n",
       "    </tr>\n",
       "  </thead>\n",
       "  <tbody>\n",
       "    <tr>\n",
       "      <td>23</td>\n",
       "      <td>21</td>\n",
       "      <td>-272.981385</td>\n",
       "      <td>20522.515</td>\n",
       "    </tr>\n",
       "    <tr>\n",
       "      <td>65</td>\n",
       "      <td>21</td>\n",
       "      <td>NaN</td>\n",
       "      <td>NaN</td>\n",
       "    </tr>\n",
       "    <tr>\n",
       "      <td>219</td>\n",
       "      <td>21</td>\n",
       "      <td>-597.273402</td>\n",
       "      <td>13912.788</td>\n",
       "    </tr>\n",
       "    <tr>\n",
       "      <td>317</td>\n",
       "      <td>21</td>\n",
       "      <td>NaN</td>\n",
       "      <td>NaN</td>\n",
       "    </tr>\n",
       "    <tr>\n",
       "      <td>606</td>\n",
       "      <td>21</td>\n",
       "      <td>-880.221113</td>\n",
       "      <td>23253.578</td>\n",
       "    </tr>\n",
       "    <tr>\n",
       "      <td>735</td>\n",
       "      <td>21</td>\n",
       "      <td>-1013.920085</td>\n",
       "      <td>9023.078</td>\n",
       "    </tr>\n",
       "    <tr>\n",
       "      <td>763</td>\n",
       "      <td>21</td>\n",
       "      <td>NaN</td>\n",
       "      <td>NaN</td>\n",
       "    </tr>\n",
       "    <tr>\n",
       "      <td>1057</td>\n",
       "      <td>21</td>\n",
       "      <td>NaN</td>\n",
       "      <td>NaN</td>\n",
       "    </tr>\n",
       "    <tr>\n",
       "      <td>1106</td>\n",
       "      <td>21</td>\n",
       "      <td>-702.043712</td>\n",
       "      <td>31550.592</td>\n",
       "    </tr>\n",
       "    <tr>\n",
       "      <td>1325</td>\n",
       "      <td>21</td>\n",
       "      <td>NaN</td>\n",
       "      <td>NaN</td>\n",
       "    </tr>\n",
       "  </tbody>\n",
       "</table>\n",
       "</div>"
      ],
      "text/plain": [
       "      dob_years  days_employed  total_income\n",
       "23           21    -272.981385     20522.515\n",
       "65           21            NaN           NaN\n",
       "219          21    -597.273402     13912.788\n",
       "317          21            NaN           NaN\n",
       "606          21    -880.221113     23253.578\n",
       "735          21   -1013.920085      9023.078\n",
       "763          21            NaN           NaN\n",
       "1057         21            NaN           NaN\n",
       "1106         21    -702.043712     31550.592\n",
       "1325         21            NaN           NaN"
      ]
     },
     "execution_count": 5,
     "metadata": {},
     "output_type": "execute_result"
    }
   ],
   "source": [
    "report_unemployed = report[['dob_years', 'days_employed', 'total_income']]\n",
    "report_unemployed[report_unemployed['dob_years'] == 21].head(10)"
   ]
  },
  {
   "cell_type": "code",
   "execution_count": 6,
   "metadata": {},
   "outputs": [
    {
     "data": {
      "text/html": [
       "<div>\n",
       "<style scoped>\n",
       "    .dataframe tbody tr th:only-of-type {\n",
       "        vertical-align: middle;\n",
       "    }\n",
       "\n",
       "    .dataframe tbody tr th {\n",
       "        vertical-align: top;\n",
       "    }\n",
       "\n",
       "    .dataframe thead th {\n",
       "        text-align: right;\n",
       "    }\n",
       "</style>\n",
       "<table border=\"1\" class=\"dataframe\">\n",
       "  <thead>\n",
       "    <tr style=\"text-align: right;\">\n",
       "      <th></th>\n",
       "      <th>children</th>\n",
       "      <th>days_employed</th>\n",
       "      <th>dob_years</th>\n",
       "      <th>education</th>\n",
       "      <th>education_id</th>\n",
       "      <th>family_status</th>\n",
       "      <th>family_status_id</th>\n",
       "      <th>gender</th>\n",
       "      <th>income_type</th>\n",
       "      <th>debt</th>\n",
       "      <th>total_income</th>\n",
       "      <th>purpose</th>\n",
       "    </tr>\n",
       "  </thead>\n",
       "  <tbody>\n",
       "    <tr>\n",
       "      <td>23</td>\n",
       "      <td>0</td>\n",
       "      <td>-272.981385</td>\n",
       "      <td>21</td>\n",
       "      <td>bachelor's degree</td>\n",
       "      <td>0</td>\n",
       "      <td>civil partnership</td>\n",
       "      <td>1</td>\n",
       "      <td>M</td>\n",
       "      <td>employee</td>\n",
       "      <td>0</td>\n",
       "      <td>20522.515</td>\n",
       "      <td>to have a wedding</td>\n",
       "    </tr>\n",
       "    <tr>\n",
       "      <td>65</td>\n",
       "      <td>0</td>\n",
       "      <td>0.000000</td>\n",
       "      <td>21</td>\n",
       "      <td>secondary education</td>\n",
       "      <td>1</td>\n",
       "      <td>unmarried</td>\n",
       "      <td>4</td>\n",
       "      <td>M</td>\n",
       "      <td>business</td>\n",
       "      <td>0</td>\n",
       "      <td>0.000</td>\n",
       "      <td>transactions with commercial real estate</td>\n",
       "    </tr>\n",
       "    <tr>\n",
       "      <td>219</td>\n",
       "      <td>0</td>\n",
       "      <td>-597.273402</td>\n",
       "      <td>21</td>\n",
       "      <td>some college</td>\n",
       "      <td>2</td>\n",
       "      <td>civil partnership</td>\n",
       "      <td>1</td>\n",
       "      <td>F</td>\n",
       "      <td>business</td>\n",
       "      <td>0</td>\n",
       "      <td>13912.788</td>\n",
       "      <td>transactions with commercial real estate</td>\n",
       "    </tr>\n",
       "    <tr>\n",
       "      <td>317</td>\n",
       "      <td>0</td>\n",
       "      <td>0.000000</td>\n",
       "      <td>21</td>\n",
       "      <td>bachelor's degree</td>\n",
       "      <td>0</td>\n",
       "      <td>unmarried</td>\n",
       "      <td>4</td>\n",
       "      <td>M</td>\n",
       "      <td>employee</td>\n",
       "      <td>0</td>\n",
       "      <td>0.000</td>\n",
       "      <td>purchase of a car</td>\n",
       "    </tr>\n",
       "    <tr>\n",
       "      <td>606</td>\n",
       "      <td>20</td>\n",
       "      <td>-880.221113</td>\n",
       "      <td>21</td>\n",
       "      <td>secondary education</td>\n",
       "      <td>1</td>\n",
       "      <td>married</td>\n",
       "      <td>0</td>\n",
       "      <td>M</td>\n",
       "      <td>business</td>\n",
       "      <td>0</td>\n",
       "      <td>23253.578</td>\n",
       "      <td>purchase of the house</td>\n",
       "    </tr>\n",
       "    <tr>\n",
       "      <td>735</td>\n",
       "      <td>0</td>\n",
       "      <td>-1013.920085</td>\n",
       "      <td>21</td>\n",
       "      <td>secondary education</td>\n",
       "      <td>1</td>\n",
       "      <td>married</td>\n",
       "      <td>0</td>\n",
       "      <td>F</td>\n",
       "      <td>employee</td>\n",
       "      <td>0</td>\n",
       "      <td>9023.078</td>\n",
       "      <td>buying property for renting out</td>\n",
       "    </tr>\n",
       "    <tr>\n",
       "      <td>763</td>\n",
       "      <td>0</td>\n",
       "      <td>0.000000</td>\n",
       "      <td>21</td>\n",
       "      <td>secondary education</td>\n",
       "      <td>1</td>\n",
       "      <td>civil partnership</td>\n",
       "      <td>1</td>\n",
       "      <td>M</td>\n",
       "      <td>business</td>\n",
       "      <td>0</td>\n",
       "      <td>0.000</td>\n",
       "      <td>purchase of the house</td>\n",
       "    </tr>\n",
       "    <tr>\n",
       "      <td>1057</td>\n",
       "      <td>0</td>\n",
       "      <td>0.000000</td>\n",
       "      <td>21</td>\n",
       "      <td>SOME COLLEGE</td>\n",
       "      <td>2</td>\n",
       "      <td>unmarried</td>\n",
       "      <td>4</td>\n",
       "      <td>M</td>\n",
       "      <td>business</td>\n",
       "      <td>0</td>\n",
       "      <td>0.000</td>\n",
       "      <td>real estate transactions</td>\n",
       "    </tr>\n",
       "    <tr>\n",
       "      <td>1106</td>\n",
       "      <td>0</td>\n",
       "      <td>-702.043712</td>\n",
       "      <td>21</td>\n",
       "      <td>some college</td>\n",
       "      <td>2</td>\n",
       "      <td>civil partnership</td>\n",
       "      <td>1</td>\n",
       "      <td>F</td>\n",
       "      <td>employee</td>\n",
       "      <td>0</td>\n",
       "      <td>31550.592</td>\n",
       "      <td>having a wedding</td>\n",
       "    </tr>\n",
       "    <tr>\n",
       "      <td>1325</td>\n",
       "      <td>1</td>\n",
       "      <td>0.000000</td>\n",
       "      <td>21</td>\n",
       "      <td>secondary education</td>\n",
       "      <td>1</td>\n",
       "      <td>civil partnership</td>\n",
       "      <td>1</td>\n",
       "      <td>F</td>\n",
       "      <td>employee</td>\n",
       "      <td>0</td>\n",
       "      <td>0.000</td>\n",
       "      <td>wedding ceremony</td>\n",
       "    </tr>\n",
       "  </tbody>\n",
       "</table>\n",
       "</div>"
      ],
      "text/plain": [
       "      children  days_employed  dob_years            education  education_id  \\\n",
       "23           0    -272.981385         21    bachelor's degree             0   \n",
       "65           0       0.000000         21  secondary education             1   \n",
       "219          0    -597.273402         21         some college             2   \n",
       "317          0       0.000000         21    bachelor's degree             0   \n",
       "606         20    -880.221113         21  secondary education             1   \n",
       "735          0   -1013.920085         21  secondary education             1   \n",
       "763          0       0.000000         21  secondary education             1   \n",
       "1057         0       0.000000         21         SOME COLLEGE             2   \n",
       "1106         0    -702.043712         21         some college             2   \n",
       "1325         1       0.000000         21  secondary education             1   \n",
       "\n",
       "          family_status  family_status_id gender income_type  debt  \\\n",
       "23    civil partnership                 1      M    employee     0   \n",
       "65            unmarried                 4      M    business     0   \n",
       "219   civil partnership                 1      F    business     0   \n",
       "317           unmarried                 4      M    employee     0   \n",
       "606             married                 0      M    business     0   \n",
       "735             married                 0      F    employee     0   \n",
       "763   civil partnership                 1      M    business     0   \n",
       "1057          unmarried                 4      M    business     0   \n",
       "1106  civil partnership                 1      F    employee     0   \n",
       "1325  civil partnership                 1      F    employee     0   \n",
       "\n",
       "      total_income                                   purpose  \n",
       "23       20522.515                         to have a wedding  \n",
       "65           0.000  transactions with commercial real estate  \n",
       "219      13912.788  transactions with commercial real estate  \n",
       "317          0.000                         purchase of a car  \n",
       "606      23253.578                     purchase of the house  \n",
       "735       9023.078           buying property for renting out  \n",
       "763          0.000                     purchase of the house  \n",
       "1057         0.000                  real estate transactions  \n",
       "1106     31550.592                          having a wedding  \n",
       "1325         0.000                          wedding ceremony  "
      ]
     },
     "execution_count": 6,
     "metadata": {},
     "output_type": "execute_result"
    }
   ],
   "source": [
    "report['days_employed'] = report['days_employed'].fillna(0)\n",
    "report['total_income'] = report['total_income'].fillna(0)\n",
    "report[report['dob_years'] == 21].head(10)"
   ]
  },
  {
   "cell_type": "code",
   "execution_count": 7,
   "metadata": {},
   "outputs": [
    {
     "data": {
      "text/plain": [
       "children            0\n",
       "days_employed       0\n",
       "dob_years           0\n",
       "education           0\n",
       "education_id        0\n",
       "family_status       0\n",
       "family_status_id    0\n",
       "gender              0\n",
       "income_type         0\n",
       "debt                0\n",
       "total_income        0\n",
       "purpose             0\n",
       "dtype: int64"
      ]
     },
     "execution_count": 7,
     "metadata": {},
     "output_type": "execute_result"
    }
   ],
   "source": [
    "report.isnull().sum()"
   ]
  },
  {
   "cell_type": "markdown",
   "metadata": {},
   "source": [
    "### Conclusion"
   ]
  },
  {
   "cell_type": "markdown",
   "metadata": {},
   "source": [
    "After checking missing values I saw that the amount of missing values in columns 'days_employed' and 'total_income' are equal. I made a conclusion that there is connect between them. I made a conclusion that there are people who've never worked that why they don't have any income. In most cases it can be people who just turned on 21. I filtered results for 3 columns 'days_employed', 'total_income' and 'dob_years' and saw that missing values matched. Changed them to 0"
   ]
  },
  {
   "cell_type": "markdown",
   "metadata": {},
   "source": [
    "## Data type replacement"
   ]
  },
  {
   "cell_type": "code",
   "execution_count": 8,
   "metadata": {},
   "outputs": [],
   "source": [
    "report['days_employed'] = report['days_employed'].astype('int')\n",
    "report['total_income'] = report['total_income'].astype('int')"
   ]
  },
  {
   "cell_type": "code",
   "execution_count": 9,
   "metadata": {},
   "outputs": [
    {
     "name": "stdout",
     "output_type": "stream",
     "text": [
      "<class 'pandas.core.frame.DataFrame'>\n",
      "RangeIndex: 21525 entries, 0 to 21524\n",
      "Data columns (total 12 columns):\n",
      "children            21525 non-null int64\n",
      "days_employed       21525 non-null int64\n",
      "dob_years           21525 non-null int64\n",
      "education           21525 non-null object\n",
      "education_id        21525 non-null int64\n",
      "family_status       21525 non-null object\n",
      "family_status_id    21525 non-null int64\n",
      "gender              21525 non-null object\n",
      "income_type         21525 non-null object\n",
      "debt                21525 non-null int64\n",
      "total_income        21525 non-null int64\n",
      "purpose             21525 non-null object\n",
      "dtypes: int64(7), object(5)\n",
      "memory usage: 2.0+ MB\n"
     ]
    }
   ],
   "source": [
    "report.info()"
   ]
  },
  {
   "cell_type": "code",
   "execution_count": 10,
   "metadata": {},
   "outputs": [
    {
     "data": {
      "text/html": [
       "<div>\n",
       "<style scoped>\n",
       "    .dataframe tbody tr th:only-of-type {\n",
       "        vertical-align: middle;\n",
       "    }\n",
       "\n",
       "    .dataframe tbody tr th {\n",
       "        vertical-align: top;\n",
       "    }\n",
       "\n",
       "    .dataframe thead th {\n",
       "        text-align: right;\n",
       "    }\n",
       "</style>\n",
       "<table border=\"1\" class=\"dataframe\">\n",
       "  <thead>\n",
       "    <tr style=\"text-align: right;\">\n",
       "      <th></th>\n",
       "      <th>children</th>\n",
       "      <th>days_employed</th>\n",
       "      <th>dob_years</th>\n",
       "      <th>education</th>\n",
       "      <th>education_id</th>\n",
       "      <th>family_status</th>\n",
       "      <th>family_status_id</th>\n",
       "      <th>gender</th>\n",
       "      <th>income_type</th>\n",
       "      <th>debt</th>\n",
       "      <th>total_income</th>\n",
       "      <th>purpose</th>\n",
       "    </tr>\n",
       "  </thead>\n",
       "  <tbody>\n",
       "    <tr>\n",
       "      <td>0</td>\n",
       "      <td>1</td>\n",
       "      <td>-8437</td>\n",
       "      <td>42</td>\n",
       "      <td>bachelor's degree</td>\n",
       "      <td>0</td>\n",
       "      <td>married</td>\n",
       "      <td>0</td>\n",
       "      <td>F</td>\n",
       "      <td>employee</td>\n",
       "      <td>0</td>\n",
       "      <td>40620</td>\n",
       "      <td>purchase of the house</td>\n",
       "    </tr>\n",
       "    <tr>\n",
       "      <td>1</td>\n",
       "      <td>1</td>\n",
       "      <td>-4024</td>\n",
       "      <td>36</td>\n",
       "      <td>secondary education</td>\n",
       "      <td>1</td>\n",
       "      <td>married</td>\n",
       "      <td>0</td>\n",
       "      <td>F</td>\n",
       "      <td>employee</td>\n",
       "      <td>0</td>\n",
       "      <td>17932</td>\n",
       "      <td>car purchase</td>\n",
       "    </tr>\n",
       "    <tr>\n",
       "      <td>2</td>\n",
       "      <td>0</td>\n",
       "      <td>-5623</td>\n",
       "      <td>33</td>\n",
       "      <td>Secondary Education</td>\n",
       "      <td>1</td>\n",
       "      <td>married</td>\n",
       "      <td>0</td>\n",
       "      <td>M</td>\n",
       "      <td>employee</td>\n",
       "      <td>0</td>\n",
       "      <td>23341</td>\n",
       "      <td>purchase of the house</td>\n",
       "    </tr>\n",
       "    <tr>\n",
       "      <td>3</td>\n",
       "      <td>3</td>\n",
       "      <td>-4124</td>\n",
       "      <td>32</td>\n",
       "      <td>secondary education</td>\n",
       "      <td>1</td>\n",
       "      <td>married</td>\n",
       "      <td>0</td>\n",
       "      <td>M</td>\n",
       "      <td>employee</td>\n",
       "      <td>0</td>\n",
       "      <td>42820</td>\n",
       "      <td>supplementary education</td>\n",
       "    </tr>\n",
       "    <tr>\n",
       "      <td>4</td>\n",
       "      <td>0</td>\n",
       "      <td>340266</td>\n",
       "      <td>53</td>\n",
       "      <td>secondary education</td>\n",
       "      <td>1</td>\n",
       "      <td>civil partnership</td>\n",
       "      <td>1</td>\n",
       "      <td>F</td>\n",
       "      <td>retiree</td>\n",
       "      <td>0</td>\n",
       "      <td>25378</td>\n",
       "      <td>to have a wedding</td>\n",
       "    </tr>\n",
       "    <tr>\n",
       "      <td>5</td>\n",
       "      <td>0</td>\n",
       "      <td>-926</td>\n",
       "      <td>27</td>\n",
       "      <td>bachelor's degree</td>\n",
       "      <td>0</td>\n",
       "      <td>civil partnership</td>\n",
       "      <td>1</td>\n",
       "      <td>M</td>\n",
       "      <td>business</td>\n",
       "      <td>0</td>\n",
       "      <td>40922</td>\n",
       "      <td>purchase of the house</td>\n",
       "    </tr>\n",
       "    <tr>\n",
       "      <td>6</td>\n",
       "      <td>0</td>\n",
       "      <td>-2879</td>\n",
       "      <td>43</td>\n",
       "      <td>bachelor's degree</td>\n",
       "      <td>0</td>\n",
       "      <td>married</td>\n",
       "      <td>0</td>\n",
       "      <td>F</td>\n",
       "      <td>business</td>\n",
       "      <td>0</td>\n",
       "      <td>38484</td>\n",
       "      <td>housing transactions</td>\n",
       "    </tr>\n",
       "    <tr>\n",
       "      <td>7</td>\n",
       "      <td>0</td>\n",
       "      <td>-152</td>\n",
       "      <td>50</td>\n",
       "      <td>SECONDARY EDUCATION</td>\n",
       "      <td>1</td>\n",
       "      <td>married</td>\n",
       "      <td>0</td>\n",
       "      <td>M</td>\n",
       "      <td>employee</td>\n",
       "      <td>0</td>\n",
       "      <td>21731</td>\n",
       "      <td>education</td>\n",
       "    </tr>\n",
       "    <tr>\n",
       "      <td>8</td>\n",
       "      <td>2</td>\n",
       "      <td>-6929</td>\n",
       "      <td>35</td>\n",
       "      <td>BACHELOR'S DEGREE</td>\n",
       "      <td>0</td>\n",
       "      <td>civil partnership</td>\n",
       "      <td>1</td>\n",
       "      <td>F</td>\n",
       "      <td>employee</td>\n",
       "      <td>0</td>\n",
       "      <td>15337</td>\n",
       "      <td>having a wedding</td>\n",
       "    </tr>\n",
       "    <tr>\n",
       "      <td>9</td>\n",
       "      <td>0</td>\n",
       "      <td>-2188</td>\n",
       "      <td>41</td>\n",
       "      <td>secondary education</td>\n",
       "      <td>1</td>\n",
       "      <td>married</td>\n",
       "      <td>0</td>\n",
       "      <td>M</td>\n",
       "      <td>employee</td>\n",
       "      <td>0</td>\n",
       "      <td>23108</td>\n",
       "      <td>purchase of the house for my family</td>\n",
       "    </tr>\n",
       "  </tbody>\n",
       "</table>\n",
       "</div>"
      ],
      "text/plain": [
       "   children  days_employed  dob_years            education  education_id  \\\n",
       "0         1          -8437         42    bachelor's degree             0   \n",
       "1         1          -4024         36  secondary education             1   \n",
       "2         0          -5623         33  Secondary Education             1   \n",
       "3         3          -4124         32  secondary education             1   \n",
       "4         0         340266         53  secondary education             1   \n",
       "5         0           -926         27    bachelor's degree             0   \n",
       "6         0          -2879         43    bachelor's degree             0   \n",
       "7         0           -152         50  SECONDARY EDUCATION             1   \n",
       "8         2          -6929         35    BACHELOR'S DEGREE             0   \n",
       "9         0          -2188         41  secondary education             1   \n",
       "\n",
       "       family_status  family_status_id gender income_type  debt  total_income  \\\n",
       "0            married                 0      F    employee     0         40620   \n",
       "1            married                 0      F    employee     0         17932   \n",
       "2            married                 0      M    employee     0         23341   \n",
       "3            married                 0      M    employee     0         42820   \n",
       "4  civil partnership                 1      F     retiree     0         25378   \n",
       "5  civil partnership                 1      M    business     0         40922   \n",
       "6            married                 0      F    business     0         38484   \n",
       "7            married                 0      M    employee     0         21731   \n",
       "8  civil partnership                 1      F    employee     0         15337   \n",
       "9            married                 0      M    employee     0         23108   \n",
       "\n",
       "                               purpose  \n",
       "0                purchase of the house  \n",
       "1                         car purchase  \n",
       "2                purchase of the house  \n",
       "3              supplementary education  \n",
       "4                    to have a wedding  \n",
       "5                purchase of the house  \n",
       "6                 housing transactions  \n",
       "7                            education  \n",
       "8                     having a wedding  \n",
       "9  purchase of the house for my family  "
      ]
     },
     "execution_count": 10,
     "metadata": {},
     "output_type": "execute_result"
    }
   ],
   "source": [
    "report.head(10)"
   ]
  },
  {
   "cell_type": "markdown",
   "metadata": {},
   "source": [
    "### Conclusion"
   ]
  },
  {
   "cell_type": "markdown",
   "metadata": {},
   "source": [
    "In two columns 'days_employed' and 'total_income' there were values float64 type. I changed type to int64 and now we have valuse comfortable for math operations and comparing."
   ]
  },
  {
   "cell_type": "markdown",
   "metadata": {},
   "source": [
    "### Processing duplicates"
   ]
  },
  {
   "cell_type": "code",
   "execution_count": 11,
   "metadata": {},
   "outputs": [
    {
     "data": {
      "text/plain": [
       "secondary education    13750\n",
       "bachelor's degree       4718\n",
       "SECONDARY EDUCATION      772\n",
       "Secondary Education      711\n",
       "some college             668\n",
       "BACHELOR'S DEGREE        274\n",
       "Bachelor's Degree        268\n",
       "primary education        250\n",
       "Some College              47\n",
       "SOME COLLEGE              29\n",
       "PRIMARY EDUCATION         17\n",
       "Primary Education         15\n",
       "graduate degree            4\n",
       "GRADUATE DEGREE            1\n",
       "Graduate Degree            1\n",
       "Name: education, dtype: int64"
      ]
     },
     "execution_count": 11,
     "metadata": {},
     "output_type": "execute_result"
    }
   ],
   "source": [
    "report['education'].value_counts()"
   ]
  },
  {
   "cell_type": "code",
   "execution_count": 12,
   "metadata": {},
   "outputs": [
    {
     "data": {
      "text/html": [
       "<div>\n",
       "<style scoped>\n",
       "    .dataframe tbody tr th:only-of-type {\n",
       "        vertical-align: middle;\n",
       "    }\n",
       "\n",
       "    .dataframe tbody tr th {\n",
       "        vertical-align: top;\n",
       "    }\n",
       "\n",
       "    .dataframe thead th {\n",
       "        text-align: right;\n",
       "    }\n",
       "</style>\n",
       "<table border=\"1\" class=\"dataframe\">\n",
       "  <thead>\n",
       "    <tr style=\"text-align: right;\">\n",
       "      <th></th>\n",
       "      <th>children</th>\n",
       "      <th>days_employed</th>\n",
       "      <th>dob_years</th>\n",
       "      <th>education</th>\n",
       "      <th>education_id</th>\n",
       "      <th>family_status</th>\n",
       "      <th>family_status_id</th>\n",
       "      <th>gender</th>\n",
       "      <th>income_type</th>\n",
       "      <th>debt</th>\n",
       "      <th>total_income</th>\n",
       "      <th>purpose</th>\n",
       "    </tr>\n",
       "  </thead>\n",
       "  <tbody>\n",
       "    <tr>\n",
       "      <td>0</td>\n",
       "      <td>1</td>\n",
       "      <td>-8437</td>\n",
       "      <td>42</td>\n",
       "      <td>bachelor's degree</td>\n",
       "      <td>0</td>\n",
       "      <td>married</td>\n",
       "      <td>0</td>\n",
       "      <td>F</td>\n",
       "      <td>employee</td>\n",
       "      <td>0</td>\n",
       "      <td>40620</td>\n",
       "      <td>purchase of the house</td>\n",
       "    </tr>\n",
       "    <tr>\n",
       "      <td>1</td>\n",
       "      <td>1</td>\n",
       "      <td>-4024</td>\n",
       "      <td>36</td>\n",
       "      <td>secondary education</td>\n",
       "      <td>1</td>\n",
       "      <td>married</td>\n",
       "      <td>0</td>\n",
       "      <td>F</td>\n",
       "      <td>employee</td>\n",
       "      <td>0</td>\n",
       "      <td>17932</td>\n",
       "      <td>car purchase</td>\n",
       "    </tr>\n",
       "    <tr>\n",
       "      <td>2</td>\n",
       "      <td>0</td>\n",
       "      <td>-5623</td>\n",
       "      <td>33</td>\n",
       "      <td>secondary education</td>\n",
       "      <td>1</td>\n",
       "      <td>married</td>\n",
       "      <td>0</td>\n",
       "      <td>M</td>\n",
       "      <td>employee</td>\n",
       "      <td>0</td>\n",
       "      <td>23341</td>\n",
       "      <td>purchase of the house</td>\n",
       "    </tr>\n",
       "    <tr>\n",
       "      <td>3</td>\n",
       "      <td>3</td>\n",
       "      <td>-4124</td>\n",
       "      <td>32</td>\n",
       "      <td>secondary education</td>\n",
       "      <td>1</td>\n",
       "      <td>married</td>\n",
       "      <td>0</td>\n",
       "      <td>M</td>\n",
       "      <td>employee</td>\n",
       "      <td>0</td>\n",
       "      <td>42820</td>\n",
       "      <td>supplementary education</td>\n",
       "    </tr>\n",
       "    <tr>\n",
       "      <td>4</td>\n",
       "      <td>0</td>\n",
       "      <td>340266</td>\n",
       "      <td>53</td>\n",
       "      <td>secondary education</td>\n",
       "      <td>1</td>\n",
       "      <td>civil partnership</td>\n",
       "      <td>1</td>\n",
       "      <td>F</td>\n",
       "      <td>retiree</td>\n",
       "      <td>0</td>\n",
       "      <td>25378</td>\n",
       "      <td>to have a wedding</td>\n",
       "    </tr>\n",
       "    <tr>\n",
       "      <td>5</td>\n",
       "      <td>0</td>\n",
       "      <td>-926</td>\n",
       "      <td>27</td>\n",
       "      <td>bachelor's degree</td>\n",
       "      <td>0</td>\n",
       "      <td>civil partnership</td>\n",
       "      <td>1</td>\n",
       "      <td>M</td>\n",
       "      <td>business</td>\n",
       "      <td>0</td>\n",
       "      <td>40922</td>\n",
       "      <td>purchase of the house</td>\n",
       "    </tr>\n",
       "    <tr>\n",
       "      <td>6</td>\n",
       "      <td>0</td>\n",
       "      <td>-2879</td>\n",
       "      <td>43</td>\n",
       "      <td>bachelor's degree</td>\n",
       "      <td>0</td>\n",
       "      <td>married</td>\n",
       "      <td>0</td>\n",
       "      <td>F</td>\n",
       "      <td>business</td>\n",
       "      <td>0</td>\n",
       "      <td>38484</td>\n",
       "      <td>housing transactions</td>\n",
       "    </tr>\n",
       "    <tr>\n",
       "      <td>7</td>\n",
       "      <td>0</td>\n",
       "      <td>-152</td>\n",
       "      <td>50</td>\n",
       "      <td>secondary education</td>\n",
       "      <td>1</td>\n",
       "      <td>married</td>\n",
       "      <td>0</td>\n",
       "      <td>M</td>\n",
       "      <td>employee</td>\n",
       "      <td>0</td>\n",
       "      <td>21731</td>\n",
       "      <td>education</td>\n",
       "    </tr>\n",
       "    <tr>\n",
       "      <td>8</td>\n",
       "      <td>2</td>\n",
       "      <td>-6929</td>\n",
       "      <td>35</td>\n",
       "      <td>bachelor's degree</td>\n",
       "      <td>0</td>\n",
       "      <td>civil partnership</td>\n",
       "      <td>1</td>\n",
       "      <td>F</td>\n",
       "      <td>employee</td>\n",
       "      <td>0</td>\n",
       "      <td>15337</td>\n",
       "      <td>having a wedding</td>\n",
       "    </tr>\n",
       "    <tr>\n",
       "      <td>9</td>\n",
       "      <td>0</td>\n",
       "      <td>-2188</td>\n",
       "      <td>41</td>\n",
       "      <td>secondary education</td>\n",
       "      <td>1</td>\n",
       "      <td>married</td>\n",
       "      <td>0</td>\n",
       "      <td>M</td>\n",
       "      <td>employee</td>\n",
       "      <td>0</td>\n",
       "      <td>23108</td>\n",
       "      <td>purchase of the house for my family</td>\n",
       "    </tr>\n",
       "  </tbody>\n",
       "</table>\n",
       "</div>"
      ],
      "text/plain": [
       "   children  days_employed  dob_years            education  education_id  \\\n",
       "0         1          -8437         42    bachelor's degree             0   \n",
       "1         1          -4024         36  secondary education             1   \n",
       "2         0          -5623         33  secondary education             1   \n",
       "3         3          -4124         32  secondary education             1   \n",
       "4         0         340266         53  secondary education             1   \n",
       "5         0           -926         27    bachelor's degree             0   \n",
       "6         0          -2879         43    bachelor's degree             0   \n",
       "7         0           -152         50  secondary education             1   \n",
       "8         2          -6929         35    bachelor's degree             0   \n",
       "9         0          -2188         41  secondary education             1   \n",
       "\n",
       "       family_status  family_status_id gender income_type  debt  total_income  \\\n",
       "0            married                 0      F    employee     0         40620   \n",
       "1            married                 0      F    employee     0         17932   \n",
       "2            married                 0      M    employee     0         23341   \n",
       "3            married                 0      M    employee     0         42820   \n",
       "4  civil partnership                 1      F     retiree     0         25378   \n",
       "5  civil partnership                 1      M    business     0         40922   \n",
       "6            married                 0      F    business     0         38484   \n",
       "7            married                 0      M    employee     0         21731   \n",
       "8  civil partnership                 1      F    employee     0         15337   \n",
       "9            married                 0      M    employee     0         23108   \n",
       "\n",
       "                               purpose  \n",
       "0                purchase of the house  \n",
       "1                         car purchase  \n",
       "2                purchase of the house  \n",
       "3              supplementary education  \n",
       "4                    to have a wedding  \n",
       "5                purchase of the house  \n",
       "6                 housing transactions  \n",
       "7                            education  \n",
       "8                     having a wedding  \n",
       "9  purchase of the house for my family  "
      ]
     },
     "execution_count": 12,
     "metadata": {},
     "output_type": "execute_result"
    }
   ],
   "source": [
    "report['education'] = report['education'].str.lower()\n",
    "report.head(10)"
   ]
  },
  {
   "cell_type": "code",
   "execution_count": 13,
   "metadata": {},
   "outputs": [
    {
     "data": {
      "text/plain": [
       "secondary education    15233\n",
       "bachelor's degree       5260\n",
       "some college             744\n",
       "primary education        282\n",
       "graduate degree            6\n",
       "Name: education, dtype: int64"
      ]
     },
     "execution_count": 13,
     "metadata": {},
     "output_type": "execute_result"
    }
   ],
   "source": [
    "report['education'].value_counts()"
   ]
  },
  {
   "cell_type": "code",
   "execution_count": 14,
   "metadata": {},
   "outputs": [
    {
     "data": {
      "text/plain": [
       "married              12380\n",
       "civil partnership     4177\n",
       "unmarried             2813\n",
       "divorced              1195\n",
       "widow / widower        960\n",
       "Name: family_status, dtype: int64"
      ]
     },
     "execution_count": 14,
     "metadata": {},
     "output_type": "execute_result"
    }
   ],
   "source": [
    "report['family_status'].value_counts()"
   ]
  },
  {
   "cell_type": "code",
   "execution_count": 15,
   "metadata": {},
   "outputs": [
    {
     "data": {
      "text/plain": [
       "employee                       11119\n",
       "business                        5085\n",
       "retiree                         3856\n",
       "civil servant                   1459\n",
       "entrepreneur                       2\n",
       "unemployed                         2\n",
       "student                            1\n",
       "paternity / maternity leave        1\n",
       "Name: income_type, dtype: int64"
      ]
     },
     "execution_count": 15,
     "metadata": {},
     "output_type": "execute_result"
    }
   ],
   "source": [
    "report['income_type'].value_counts()"
   ]
  },
  {
   "cell_type": "code",
   "execution_count": 16,
   "metadata": {},
   "outputs": [
    {
     "data": {
      "text/plain": [
       "F      14236\n",
       "M       7288\n",
       "XNA        1\n",
       "Name: gender, dtype: int64"
      ]
     },
     "execution_count": 16,
     "metadata": {},
     "output_type": "execute_result"
    }
   ],
   "source": [
    "report['gender'].value_counts()"
   ]
  },
  {
   "cell_type": "code",
   "execution_count": 17,
   "metadata": {},
   "outputs": [
    {
     "data": {
      "text/html": [
       "<div>\n",
       "<style scoped>\n",
       "    .dataframe tbody tr th:only-of-type {\n",
       "        vertical-align: middle;\n",
       "    }\n",
       "\n",
       "    .dataframe tbody tr th {\n",
       "        vertical-align: top;\n",
       "    }\n",
       "\n",
       "    .dataframe thead th {\n",
       "        text-align: right;\n",
       "    }\n",
       "</style>\n",
       "<table border=\"1\" class=\"dataframe\">\n",
       "  <thead>\n",
       "    <tr style=\"text-align: right;\">\n",
       "      <th></th>\n",
       "      <th>children</th>\n",
       "      <th>days_employed</th>\n",
       "      <th>dob_years</th>\n",
       "      <th>education</th>\n",
       "      <th>education_id</th>\n",
       "      <th>family_status</th>\n",
       "      <th>family_status_id</th>\n",
       "      <th>gender</th>\n",
       "      <th>income_type</th>\n",
       "      <th>debt</th>\n",
       "      <th>total_income</th>\n",
       "      <th>purpose</th>\n",
       "    </tr>\n",
       "  </thead>\n",
       "  <tbody>\n",
       "    <tr>\n",
       "      <td>10701</td>\n",
       "      <td>0</td>\n",
       "      <td>-2358</td>\n",
       "      <td>24</td>\n",
       "      <td>some college</td>\n",
       "      <td>2</td>\n",
       "      <td>civil partnership</td>\n",
       "      <td>1</td>\n",
       "      <td>XNA</td>\n",
       "      <td>business</td>\n",
       "      <td>0</td>\n",
       "      <td>32624</td>\n",
       "      <td>buy real estate</td>\n",
       "    </tr>\n",
       "  </tbody>\n",
       "</table>\n",
       "</div>"
      ],
      "text/plain": [
       "       children  days_employed  dob_years     education  education_id  \\\n",
       "10701         0          -2358         24  some college             2   \n",
       "\n",
       "           family_status  family_status_id gender income_type  debt  \\\n",
       "10701  civil partnership                 1    XNA    business     0   \n",
       "\n",
       "       total_income          purpose  \n",
       "10701         32624  buy real estate  "
      ]
     },
     "execution_count": 17,
     "metadata": {},
     "output_type": "execute_result"
    }
   ],
   "source": [
    "report[report['gender'] == 'XNA']"
   ]
  },
  {
   "cell_type": "code",
   "execution_count": 18,
   "metadata": {},
   "outputs": [
    {
     "data": {
      "text/plain": [
       "'F'"
      ]
     },
     "execution_count": 18,
     "metadata": {},
     "output_type": "execute_result"
    }
   ],
   "source": [
    "report['gender'] = report['gender'].replace('XNA', 'F')\n",
    "report.loc[10701, 'gender']"
   ]
  },
  {
   "cell_type": "code",
   "execution_count": 19,
   "metadata": {},
   "outputs": [
    {
     "data": {
      "text/plain": [
       "F    14237\n",
       "M     7288\n",
       "Name: gender, dtype: int64"
      ]
     },
     "execution_count": 19,
     "metadata": {},
     "output_type": "execute_result"
    }
   ],
   "source": [
    "report['gender'].value_counts()"
   ]
  },
  {
   "cell_type": "code",
   "execution_count": 20,
   "metadata": {},
   "outputs": [
    {
     "data": {
      "text/plain": [
       "wedding ceremony                            797\n",
       "having a wedding                            777\n",
       "to have a wedding                           774\n",
       "real estate transactions                    676\n",
       "buy commercial real estate                  664\n",
       "buying property for renting out             653\n",
       "housing transactions                        653\n",
       "transactions with commercial real estate    651\n",
       "purchase of the house                       647\n",
       "housing                                     647\n",
       "purchase of the house for my family         641\n",
       "construction of own property                635\n",
       "property                                    634\n",
       "transactions with my real estate            630\n",
       "building a real estate                      626\n",
       "buy real estate                             624\n",
       "purchase of my own house                    620\n",
       "building a property                         620\n",
       "housing renovation                          612\n",
       "buy residential real estate                 607\n",
       "buying my own car                           505\n",
       "going to university                         496\n",
       "car                                         495\n",
       "second-hand car purchase                    489\n",
       "to own a car                                480\n",
       "buying a second-hand car                    479\n",
       "cars                                        478\n",
       "to buy a car                                472\n",
       "supplementary education                     462\n",
       "car purchase                                462\n",
       "purchase of a car                           455\n",
       "university education                        453\n",
       "education                                   447\n",
       "to get a supplementary education            447\n",
       "getting an education                        443\n",
       "profile education                           436\n",
       "getting higher education                    426\n",
       "to become educated                          412\n",
       "Name: purpose, dtype: int64"
      ]
     },
     "execution_count": 20,
     "metadata": {},
     "output_type": "execute_result"
    }
   ],
   "source": [
    "report['purpose'].value_counts()"
   ]
  },
  {
   "cell_type": "code",
   "execution_count": 21,
   "metadata": {},
   "outputs": [
    {
     "data": {
      "text/plain": [
       " 0     14149\n",
       " 1      4818\n",
       " 2      2055\n",
       " 3       330\n",
       " 20       76\n",
       "-1        47\n",
       " 4        41\n",
       " 5         9\n",
       "Name: children, dtype: int64"
      ]
     },
     "execution_count": 21,
     "metadata": {},
     "output_type": "execute_result"
    }
   ],
   "source": [
    "report['children'].value_counts()"
   ]
  },
  {
   "cell_type": "code",
   "execution_count": 22,
   "metadata": {},
   "outputs": [
    {
     "data": {
      "text/html": [
       "<div>\n",
       "<style scoped>\n",
       "    .dataframe tbody tr th:only-of-type {\n",
       "        vertical-align: middle;\n",
       "    }\n",
       "\n",
       "    .dataframe tbody tr th {\n",
       "        vertical-align: top;\n",
       "    }\n",
       "\n",
       "    .dataframe thead th {\n",
       "        text-align: right;\n",
       "    }\n",
       "</style>\n",
       "<table border=\"1\" class=\"dataframe\">\n",
       "  <thead>\n",
       "    <tr style=\"text-align: right;\">\n",
       "      <th></th>\n",
       "      <th>children</th>\n",
       "      <th>days_employed</th>\n",
       "      <th>dob_years</th>\n",
       "      <th>education</th>\n",
       "      <th>education_id</th>\n",
       "      <th>family_status</th>\n",
       "      <th>family_status_id</th>\n",
       "      <th>gender</th>\n",
       "      <th>income_type</th>\n",
       "      <th>debt</th>\n",
       "      <th>total_income</th>\n",
       "      <th>purpose</th>\n",
       "    </tr>\n",
       "  </thead>\n",
       "  <tbody>\n",
       "    <tr>\n",
       "      <td>606</td>\n",
       "      <td>20</td>\n",
       "      <td>-880</td>\n",
       "      <td>21</td>\n",
       "      <td>secondary education</td>\n",
       "      <td>1</td>\n",
       "      <td>married</td>\n",
       "      <td>0</td>\n",
       "      <td>M</td>\n",
       "      <td>business</td>\n",
       "      <td>0</td>\n",
       "      <td>23253</td>\n",
       "      <td>purchase of the house</td>\n",
       "    </tr>\n",
       "    <tr>\n",
       "      <td>720</td>\n",
       "      <td>20</td>\n",
       "      <td>-855</td>\n",
       "      <td>44</td>\n",
       "      <td>secondary education</td>\n",
       "      <td>1</td>\n",
       "      <td>married</td>\n",
       "      <td>0</td>\n",
       "      <td>F</td>\n",
       "      <td>business</td>\n",
       "      <td>0</td>\n",
       "      <td>18079</td>\n",
       "      <td>buy real estate</td>\n",
       "    </tr>\n",
       "    <tr>\n",
       "      <td>1074</td>\n",
       "      <td>20</td>\n",
       "      <td>-3310</td>\n",
       "      <td>56</td>\n",
       "      <td>secondary education</td>\n",
       "      <td>1</td>\n",
       "      <td>married</td>\n",
       "      <td>0</td>\n",
       "      <td>F</td>\n",
       "      <td>employee</td>\n",
       "      <td>1</td>\n",
       "      <td>36722</td>\n",
       "      <td>getting an education</td>\n",
       "    </tr>\n",
       "    <tr>\n",
       "      <td>2510</td>\n",
       "      <td>20</td>\n",
       "      <td>-2714</td>\n",
       "      <td>59</td>\n",
       "      <td>bachelor's degree</td>\n",
       "      <td>0</td>\n",
       "      <td>widow / widower</td>\n",
       "      <td>2</td>\n",
       "      <td>F</td>\n",
       "      <td>employee</td>\n",
       "      <td>0</td>\n",
       "      <td>42315</td>\n",
       "      <td>transactions with commercial real estate</td>\n",
       "    </tr>\n",
       "    <tr>\n",
       "      <td>2941</td>\n",
       "      <td>20</td>\n",
       "      <td>-2161</td>\n",
       "      <td>0</td>\n",
       "      <td>secondary education</td>\n",
       "      <td>1</td>\n",
       "      <td>married</td>\n",
       "      <td>0</td>\n",
       "      <td>F</td>\n",
       "      <td>employee</td>\n",
       "      <td>0</td>\n",
       "      <td>31958</td>\n",
       "      <td>to buy a car</td>\n",
       "    </tr>\n",
       "    <tr>\n",
       "      <td>3302</td>\n",
       "      <td>20</td>\n",
       "      <td>0</td>\n",
       "      <td>35</td>\n",
       "      <td>secondary education</td>\n",
       "      <td>1</td>\n",
       "      <td>unmarried</td>\n",
       "      <td>4</td>\n",
       "      <td>F</td>\n",
       "      <td>civil servant</td>\n",
       "      <td>0</td>\n",
       "      <td>0</td>\n",
       "      <td>profile education</td>\n",
       "    </tr>\n",
       "    <tr>\n",
       "      <td>3396</td>\n",
       "      <td>20</td>\n",
       "      <td>0</td>\n",
       "      <td>56</td>\n",
       "      <td>bachelor's degree</td>\n",
       "      <td>0</td>\n",
       "      <td>married</td>\n",
       "      <td>0</td>\n",
       "      <td>F</td>\n",
       "      <td>business</td>\n",
       "      <td>0</td>\n",
       "      <td>0</td>\n",
       "      <td>university education</td>\n",
       "    </tr>\n",
       "    <tr>\n",
       "      <td>3671</td>\n",
       "      <td>20</td>\n",
       "      <td>-913</td>\n",
       "      <td>23</td>\n",
       "      <td>secondary education</td>\n",
       "      <td>1</td>\n",
       "      <td>unmarried</td>\n",
       "      <td>4</td>\n",
       "      <td>F</td>\n",
       "      <td>employee</td>\n",
       "      <td>0</td>\n",
       "      <td>16200</td>\n",
       "      <td>buying a second-hand car</td>\n",
       "    </tr>\n",
       "    <tr>\n",
       "      <td>3697</td>\n",
       "      <td>20</td>\n",
       "      <td>-2907</td>\n",
       "      <td>40</td>\n",
       "      <td>secondary education</td>\n",
       "      <td>1</td>\n",
       "      <td>civil partnership</td>\n",
       "      <td>1</td>\n",
       "      <td>M</td>\n",
       "      <td>employee</td>\n",
       "      <td>0</td>\n",
       "      <td>18460</td>\n",
       "      <td>buying a second-hand car</td>\n",
       "    </tr>\n",
       "    <tr>\n",
       "      <td>3735</td>\n",
       "      <td>20</td>\n",
       "      <td>-805</td>\n",
       "      <td>26</td>\n",
       "      <td>bachelor's degree</td>\n",
       "      <td>0</td>\n",
       "      <td>unmarried</td>\n",
       "      <td>4</td>\n",
       "      <td>M</td>\n",
       "      <td>employee</td>\n",
       "      <td>0</td>\n",
       "      <td>21952</td>\n",
       "      <td>housing renovation</td>\n",
       "    </tr>\n",
       "  </tbody>\n",
       "</table>\n",
       "</div>"
      ],
      "text/plain": [
       "      children  days_employed  dob_years            education  education_id  \\\n",
       "606         20           -880         21  secondary education             1   \n",
       "720         20           -855         44  secondary education             1   \n",
       "1074        20          -3310         56  secondary education             1   \n",
       "2510        20          -2714         59    bachelor's degree             0   \n",
       "2941        20          -2161          0  secondary education             1   \n",
       "3302        20              0         35  secondary education             1   \n",
       "3396        20              0         56    bachelor's degree             0   \n",
       "3671        20           -913         23  secondary education             1   \n",
       "3697        20          -2907         40  secondary education             1   \n",
       "3735        20           -805         26    bachelor's degree             0   \n",
       "\n",
       "          family_status  family_status_id gender    income_type  debt  \\\n",
       "606             married                 0      M       business     0   \n",
       "720             married                 0      F       business     0   \n",
       "1074            married                 0      F       employee     1   \n",
       "2510    widow / widower                 2      F       employee     0   \n",
       "2941            married                 0      F       employee     0   \n",
       "3302          unmarried                 4      F  civil servant     0   \n",
       "3396            married                 0      F       business     0   \n",
       "3671          unmarried                 4      F       employee     0   \n",
       "3697  civil partnership                 1      M       employee     0   \n",
       "3735          unmarried                 4      M       employee     0   \n",
       "\n",
       "      total_income                                   purpose  \n",
       "606          23253                     purchase of the house  \n",
       "720          18079                           buy real estate  \n",
       "1074         36722                      getting an education  \n",
       "2510         42315  transactions with commercial real estate  \n",
       "2941         31958                              to buy a car  \n",
       "3302             0                         profile education  \n",
       "3396             0                      university education  \n",
       "3671         16200                  buying a second-hand car  \n",
       "3697         18460                  buying a second-hand car  \n",
       "3735         21952                        housing renovation  "
      ]
     },
     "execution_count": 22,
     "metadata": {},
     "output_type": "execute_result"
    }
   ],
   "source": [
    "report[report['children'] == 20].head(10)"
   ]
  },
  {
   "cell_type": "code",
   "execution_count": 23,
   "metadata": {},
   "outputs": [
    {
     "data": {
      "text/plain": [
       "0.0"
      ]
     },
     "execution_count": 23,
     "metadata": {},
     "output_type": "execute_result"
    }
   ],
   "source": [
    "report['children'].median()"
   ]
  },
  {
   "cell_type": "code",
   "execution_count": 24,
   "metadata": {},
   "outputs": [
    {
     "data": {
      "text/plain": [
       "0.5389082462253194"
      ]
     },
     "execution_count": 24,
     "metadata": {},
     "output_type": "execute_result"
    }
   ],
   "source": [
    "report['children'].mean()"
   ]
  },
  {
   "cell_type": "code",
   "execution_count": 25,
   "metadata": {},
   "outputs": [
    {
     "data": {
      "text/plain": [
       "0    14149\n",
       "1     4865\n",
       "2     2131\n",
       "3      330\n",
       "4       41\n",
       "5        9\n",
       "Name: children, dtype: int64"
      ]
     },
     "execution_count": 25,
     "metadata": {},
     "output_type": "execute_result"
    }
   ],
   "source": [
    "report['children'] = report['children'].replace(20, 2)\n",
    "report['children'] = report['children'].replace(-1, 1)\n",
    "report['children'].value_counts()"
   ]
  },
  {
   "cell_type": "code",
   "execution_count": 26,
   "metadata": {},
   "outputs": [
    {
     "data": {
      "text/plain": [
       "35    617\n",
       "40    609\n",
       "41    607\n",
       "34    603\n",
       "38    598\n",
       "42    597\n",
       "33    581\n",
       "39    573\n",
       "31    560\n",
       "36    555\n",
       "44    547\n",
       "29    545\n",
       "30    540\n",
       "48    538\n",
       "37    537\n",
       "50    514\n",
       "43    513\n",
       "32    510\n",
       "49    508\n",
       "28    503\n",
       "45    497\n",
       "27    493\n",
       "56    487\n",
       "52    484\n",
       "47    480\n",
       "54    479\n",
       "46    475\n",
       "58    461\n",
       "57    460\n",
       "53    459\n",
       "51    448\n",
       "59    444\n",
       "55    443\n",
       "26    408\n",
       "60    377\n",
       "25    357\n",
       "61    355\n",
       "62    352\n",
       "63    269\n",
       "64    265\n",
       "24    264\n",
       "23    254\n",
       "65    194\n",
       "66    183\n",
       "22    183\n",
       "67    167\n",
       "21    111\n",
       "0     101\n",
       "68     99\n",
       "69     85\n",
       "70     65\n",
       "71     58\n",
       "20     51\n",
       "72     33\n",
       "19     14\n",
       "73      8\n",
       "74      6\n",
       "75      1\n",
       "Name: dob_years, dtype: int64"
      ]
     },
     "execution_count": 26,
     "metadata": {},
     "output_type": "execute_result"
    }
   ],
   "source": [
    "report['dob_years'].value_counts()"
   ]
  },
  {
   "cell_type": "code",
   "execution_count": 27,
   "metadata": {},
   "outputs": [
    {
     "data": {
      "text/plain": [
       "43.29337979094077"
      ]
     },
     "execution_count": 27,
     "metadata": {},
     "output_type": "execute_result"
    }
   ],
   "source": [
    "report['dob_years'].mean()"
   ]
  },
  {
   "cell_type": "code",
   "execution_count": 28,
   "metadata": {},
   "outputs": [
    {
     "data": {
      "text/plain": [
       "42.0"
      ]
     },
     "execution_count": 28,
     "metadata": {},
     "output_type": "execute_result"
    }
   ],
   "source": [
    "report['dob_years'].median()"
   ]
  },
  {
   "cell_type": "code",
   "execution_count": 29,
   "metadata": {},
   "outputs": [],
   "source": [
    "report['dob_years'] = report['dob_years'].replace(0, 42)"
   ]
  },
  {
   "cell_type": "code",
   "execution_count": 30,
   "metadata": {},
   "outputs": [
    {
     "data": {
      "text/plain": [
       "42    698\n",
       "35    617\n",
       "40    609\n",
       "41    607\n",
       "34    603\n",
       "38    598\n",
       "33    581\n",
       "39    573\n",
       "31    560\n",
       "36    555\n",
       "44    547\n",
       "29    545\n",
       "30    540\n",
       "48    538\n",
       "37    537\n",
       "50    514\n",
       "43    513\n",
       "32    510\n",
       "49    508\n",
       "28    503\n",
       "45    497\n",
       "27    493\n",
       "56    487\n",
       "52    484\n",
       "47    480\n",
       "54    479\n",
       "46    475\n",
       "58    461\n",
       "57    460\n",
       "53    459\n",
       "51    448\n",
       "59    444\n",
       "55    443\n",
       "26    408\n",
       "60    377\n",
       "25    357\n",
       "61    355\n",
       "62    352\n",
       "63    269\n",
       "64    265\n",
       "24    264\n",
       "23    254\n",
       "65    194\n",
       "66    183\n",
       "22    183\n",
       "67    167\n",
       "21    111\n",
       "68     99\n",
       "69     85\n",
       "70     65\n",
       "71     58\n",
       "20     51\n",
       "72     33\n",
       "19     14\n",
       "73      8\n",
       "74      6\n",
       "75      1\n",
       "Name: dob_years, dtype: int64"
      ]
     },
     "execution_count": 30,
     "metadata": {},
     "output_type": "execute_result"
    }
   ],
   "source": [
    "report['dob_years'].value_counts()"
   ]
  },
  {
   "cell_type": "markdown",
   "metadata": {},
   "source": [
    "### Conclusion"
   ]
  },
  {
   "cell_type": "markdown",
   "metadata": {},
   "source": [
    "In the column 'education' were duplicates values caused by a different type of cases. With the help of str.lower() method I succeded to get values without duplicates. Also there was interesting case in 'gender' column. There was one person who doesn't identify himsef with any gender. Renoving this row weren't right step, because I would lost a data from it, so I decided to replace it with majority gender Female, so it will not influence a lot at the all of data. In the column 'children' were weird values like 20 and -1. Analyzing the table I found impossible that people have 20 children in 21 years old, also -1 is not logical. Finding mean and median also brang no clean results, because median was 0 and it can impact on all of data if replace 20 children, also mean was 0.5 what was no good also. So I can assume that it was mistake and should be 2 and 1 children. Replaced 20 and -1 values with 2 and 1. Upon checking the 'children' column I noticed a value 0 in 'dob_years' column which is impossible. Calculating mean and median and decided to use median for replacement because mean was not integer value and we don't want float in our calculation."
   ]
  },
  {
   "cell_type": "markdown",
   "metadata": {},
   "source": [
    "### Categorizing Data"
   ]
  },
  {
   "cell_type": "code",
   "execution_count": 31,
   "metadata": {},
   "outputs": [],
   "source": [
    "import nltk\n",
    "from nltk.stem import WordNetLemmatizer\n",
    "lemmatizer = WordNetLemmatizer()\n"
   ]
  },
  {
   "cell_type": "code",
   "execution_count": 32,
   "metadata": {},
   "outputs": [
    {
     "data": {
      "text/plain": [
       "[car]                                            973\n",
       "[wedding, ceremony]                              797\n",
       "[having, a, wedding]                             777\n",
       "[to, have, a, wedding]                           774\n",
       "[real, estate, transaction]                      676\n",
       "[buy, commercial, real, estate]                  664\n",
       "[housing, transaction]                           653\n",
       "[buying, property, for, renting, out]            653\n",
       "[transaction, with, commercial, real, estate]    651\n",
       "[purchase, of, the, house]                       647\n",
       "[housing]                                        647\n",
       "[purchase, of, the, house, for, my, family]      641\n",
       "[construction, of, own, property]                635\n",
       "[property]                                       634\n",
       "[transaction, with, my, real, estate]            630\n",
       "[building, a, real, estate]                      626\n",
       "[buy, real, estate]                              624\n",
       "[building, a, property]                          620\n",
       "[purchase, of, my, own, house]                   620\n",
       "[housing, renovation]                            612\n",
       "[buy, residential, real, estate]                 607\n",
       "[buying, my, own, car]                           505\n",
       "[going, to, university]                          496\n",
       "[second-hand, car, purchase]                     489\n",
       "[to, own, a, car]                                480\n",
       "[buying, a, second-hand, car]                    479\n",
       "[to, buy, a, car]                                472\n",
       "[supplementary, education]                       462\n",
       "[car, purchase]                                  462\n",
       "[purchase, of, a, car]                           455\n",
       "[university, education]                          453\n",
       "[to, get, a, supplementary, education]           447\n",
       "[education]                                      447\n",
       "[getting, an, education]                         443\n",
       "[profile, education]                             436\n",
       "[getting, higher, education]                     426\n",
       "[to, become, educated]                           412\n",
       "Name: purpose_lemma, dtype: int64"
      ]
     },
     "execution_count": 32,
     "metadata": {},
     "output_type": "execute_result"
    }
   ],
   "source": [
    "def lemma_words(row):\n",
    "    return [lemmatizer.lemmatize(row, pos='n') for row in nltk.word_tokenize(row)]\n",
    "\n",
    "report['purpose_lemma'] = report['purpose'].apply(lemma_words)\n",
    "report['purpose_lemma'].value_counts()"
   ]
  },
  {
   "cell_type": "code",
   "execution_count": 33,
   "metadata": {},
   "outputs": [],
   "source": [
    "def cat_purpose(row):\n",
    "    estate = ['housing', 'house', 'real', 'estate', 'property']\n",
    "    education = ['education', 'university', 'educated']\n",
    "    car = ['car']\n",
    "    wedding = ['wedding']\n",
    "    \n",
    "    for keyword in estate:\n",
    "        if keyword in row:\n",
    "            return 'estate'\n",
    "    for keyword in education:\n",
    "        if keyword in row:\n",
    "            return 'education'\n",
    "    for keyword in car:\n",
    "        if keyword in row:\n",
    "            return 'car'\n",
    "    for keyword in wedding:\n",
    "        if keyword in row:\n",
    "            return 'wedding'\n",
    "        \n",
    "    return 'other'   \n",
    "\n",
    "report['purpose'] = report['purpose_lemma'].apply(cat_purpose)"
   ]
  },
  {
   "cell_type": "code",
   "execution_count": 34,
   "metadata": {},
   "outputs": [
    {
     "data": {
      "text/plain": [
       "estate       10840\n",
       "car           4315\n",
       "education     4022\n",
       "wedding       2348\n",
       "Name: purpose, dtype: int64"
      ]
     },
     "execution_count": 34,
     "metadata": {},
     "output_type": "execute_result"
    }
   ],
   "source": [
    "report['purpose'].value_counts()"
   ]
  },
  {
   "cell_type": "code",
   "execution_count": 35,
   "metadata": {},
   "outputs": [
    {
     "data": {
      "text/html": [
       "<div>\n",
       "<style scoped>\n",
       "    .dataframe tbody tr th:only-of-type {\n",
       "        vertical-align: middle;\n",
       "    }\n",
       "\n",
       "    .dataframe tbody tr th {\n",
       "        vertical-align: top;\n",
       "    }\n",
       "\n",
       "    .dataframe thead th {\n",
       "        text-align: right;\n",
       "    }\n",
       "</style>\n",
       "<table border=\"1\" class=\"dataframe\">\n",
       "  <thead>\n",
       "    <tr style=\"text-align: right;\">\n",
       "      <th></th>\n",
       "      <th>children</th>\n",
       "      <th>days_employed</th>\n",
       "      <th>dob_years</th>\n",
       "      <th>education</th>\n",
       "      <th>education_id</th>\n",
       "      <th>family_status</th>\n",
       "      <th>family_status_id</th>\n",
       "      <th>gender</th>\n",
       "      <th>income_type</th>\n",
       "      <th>debt</th>\n",
       "      <th>total_income</th>\n",
       "      <th>purpose</th>\n",
       "      <th>purpose_lemma</th>\n",
       "    </tr>\n",
       "  </thead>\n",
       "  <tbody>\n",
       "    <tr>\n",
       "      <td>0</td>\n",
       "      <td>1</td>\n",
       "      <td>-8437</td>\n",
       "      <td>42</td>\n",
       "      <td>bachelor's degree</td>\n",
       "      <td>0</td>\n",
       "      <td>married</td>\n",
       "      <td>0</td>\n",
       "      <td>F</td>\n",
       "      <td>employee</td>\n",
       "      <td>0</td>\n",
       "      <td>40620</td>\n",
       "      <td>estate</td>\n",
       "      <td>[purchase, of, the, house]</td>\n",
       "    </tr>\n",
       "    <tr>\n",
       "      <td>1</td>\n",
       "      <td>1</td>\n",
       "      <td>-4024</td>\n",
       "      <td>36</td>\n",
       "      <td>secondary education</td>\n",
       "      <td>1</td>\n",
       "      <td>married</td>\n",
       "      <td>0</td>\n",
       "      <td>F</td>\n",
       "      <td>employee</td>\n",
       "      <td>0</td>\n",
       "      <td>17932</td>\n",
       "      <td>car</td>\n",
       "      <td>[car, purchase]</td>\n",
       "    </tr>\n",
       "    <tr>\n",
       "      <td>2</td>\n",
       "      <td>0</td>\n",
       "      <td>-5623</td>\n",
       "      <td>33</td>\n",
       "      <td>secondary education</td>\n",
       "      <td>1</td>\n",
       "      <td>married</td>\n",
       "      <td>0</td>\n",
       "      <td>M</td>\n",
       "      <td>employee</td>\n",
       "      <td>0</td>\n",
       "      <td>23341</td>\n",
       "      <td>estate</td>\n",
       "      <td>[purchase, of, the, house]</td>\n",
       "    </tr>\n",
       "    <tr>\n",
       "      <td>3</td>\n",
       "      <td>3</td>\n",
       "      <td>-4124</td>\n",
       "      <td>32</td>\n",
       "      <td>secondary education</td>\n",
       "      <td>1</td>\n",
       "      <td>married</td>\n",
       "      <td>0</td>\n",
       "      <td>M</td>\n",
       "      <td>employee</td>\n",
       "      <td>0</td>\n",
       "      <td>42820</td>\n",
       "      <td>education</td>\n",
       "      <td>[supplementary, education]</td>\n",
       "    </tr>\n",
       "    <tr>\n",
       "      <td>4</td>\n",
       "      <td>0</td>\n",
       "      <td>340266</td>\n",
       "      <td>53</td>\n",
       "      <td>secondary education</td>\n",
       "      <td>1</td>\n",
       "      <td>civil partnership</td>\n",
       "      <td>1</td>\n",
       "      <td>F</td>\n",
       "      <td>retiree</td>\n",
       "      <td>0</td>\n",
       "      <td>25378</td>\n",
       "      <td>wedding</td>\n",
       "      <td>[to, have, a, wedding]</td>\n",
       "    </tr>\n",
       "  </tbody>\n",
       "</table>\n",
       "</div>"
      ],
      "text/plain": [
       "   children  days_employed  dob_years            education  education_id  \\\n",
       "0         1          -8437         42    bachelor's degree             0   \n",
       "1         1          -4024         36  secondary education             1   \n",
       "2         0          -5623         33  secondary education             1   \n",
       "3         3          -4124         32  secondary education             1   \n",
       "4         0         340266         53  secondary education             1   \n",
       "\n",
       "       family_status  family_status_id gender income_type  debt  total_income  \\\n",
       "0            married                 0      F    employee     0         40620   \n",
       "1            married                 0      F    employee     0         17932   \n",
       "2            married                 0      M    employee     0         23341   \n",
       "3            married                 0      M    employee     0         42820   \n",
       "4  civil partnership                 1      F     retiree     0         25378   \n",
       "\n",
       "     purpose               purpose_lemma  \n",
       "0     estate  [purchase, of, the, house]  \n",
       "1        car             [car, purchase]  \n",
       "2     estate  [purchase, of, the, house]  \n",
       "3  education  [supplementary, education]  \n",
       "4    wedding      [to, have, a, wedding]  "
      ]
     },
     "execution_count": 35,
     "metadata": {},
     "output_type": "execute_result"
    }
   ],
   "source": [
    "report.head()"
   ]
  },
  {
   "cell_type": "markdown",
   "metadata": {},
   "source": [
    "### Conclusion"
   ]
  },
  {
   "cell_type": "markdown",
   "metadata": {},
   "source": [
    "IN the column 'purpose' with the help of lemmatization I was able to group all purposes to 4 main categories. So I will be able to analize the credit score depending on purpose. "
   ]
  },
  {
   "cell_type": "markdown",
   "metadata": {},
   "source": [
    "## Answer these questions"
   ]
  },
  {
   "cell_type": "markdown",
   "metadata": {},
   "source": [
    "- Is there a relation between having kids and repaying a loan on time?"
   ]
  },
  {
   "cell_type": "code",
   "execution_count": 36,
   "metadata": {},
   "outputs": [
    {
     "data": {
      "text/html": [
       "<div>\n",
       "<style scoped>\n",
       "    .dataframe tbody tr th:only-of-type {\n",
       "        vertical-align: middle;\n",
       "    }\n",
       "\n",
       "    .dataframe tbody tr th {\n",
       "        vertical-align: top;\n",
       "    }\n",
       "\n",
       "    .dataframe thead th {\n",
       "        text-align: right;\n",
       "    }\n",
       "</style>\n",
       "<table border=\"1\" class=\"dataframe\">\n",
       "  <thead>\n",
       "    <tr style=\"text-align: right;\">\n",
       "      <th></th>\n",
       "      <th>children</th>\n",
       "      <th>days_employed</th>\n",
       "      <th>dob_years</th>\n",
       "      <th>education</th>\n",
       "      <th>education_id</th>\n",
       "      <th>family_status</th>\n",
       "      <th>family_status_id</th>\n",
       "      <th>gender</th>\n",
       "      <th>income_type</th>\n",
       "      <th>debt</th>\n",
       "      <th>total_income</th>\n",
       "      <th>purpose</th>\n",
       "      <th>purpose_lemma</th>\n",
       "    </tr>\n",
       "  </thead>\n",
       "  <tbody>\n",
       "    <tr>\n",
       "      <td>0</td>\n",
       "      <td>have</td>\n",
       "      <td>-8437</td>\n",
       "      <td>42</td>\n",
       "      <td>bachelor's degree</td>\n",
       "      <td>0</td>\n",
       "      <td>married</td>\n",
       "      <td>0</td>\n",
       "      <td>F</td>\n",
       "      <td>employee</td>\n",
       "      <td>0</td>\n",
       "      <td>40620</td>\n",
       "      <td>estate</td>\n",
       "      <td>[purchase, of, the, house]</td>\n",
       "    </tr>\n",
       "    <tr>\n",
       "      <td>1</td>\n",
       "      <td>have</td>\n",
       "      <td>-4024</td>\n",
       "      <td>36</td>\n",
       "      <td>secondary education</td>\n",
       "      <td>1</td>\n",
       "      <td>married</td>\n",
       "      <td>0</td>\n",
       "      <td>F</td>\n",
       "      <td>employee</td>\n",
       "      <td>0</td>\n",
       "      <td>17932</td>\n",
       "      <td>car</td>\n",
       "      <td>[car, purchase]</td>\n",
       "    </tr>\n",
       "    <tr>\n",
       "      <td>2</td>\n",
       "      <td>no kids</td>\n",
       "      <td>-5623</td>\n",
       "      <td>33</td>\n",
       "      <td>secondary education</td>\n",
       "      <td>1</td>\n",
       "      <td>married</td>\n",
       "      <td>0</td>\n",
       "      <td>M</td>\n",
       "      <td>employee</td>\n",
       "      <td>0</td>\n",
       "      <td>23341</td>\n",
       "      <td>estate</td>\n",
       "      <td>[purchase, of, the, house]</td>\n",
       "    </tr>\n",
       "    <tr>\n",
       "      <td>3</td>\n",
       "      <td>have</td>\n",
       "      <td>-4124</td>\n",
       "      <td>32</td>\n",
       "      <td>secondary education</td>\n",
       "      <td>1</td>\n",
       "      <td>married</td>\n",
       "      <td>0</td>\n",
       "      <td>M</td>\n",
       "      <td>employee</td>\n",
       "      <td>0</td>\n",
       "      <td>42820</td>\n",
       "      <td>education</td>\n",
       "      <td>[supplementary, education]</td>\n",
       "    </tr>\n",
       "    <tr>\n",
       "      <td>4</td>\n",
       "      <td>no kids</td>\n",
       "      <td>340266</td>\n",
       "      <td>53</td>\n",
       "      <td>secondary education</td>\n",
       "      <td>1</td>\n",
       "      <td>civil partnership</td>\n",
       "      <td>1</td>\n",
       "      <td>F</td>\n",
       "      <td>retiree</td>\n",
       "      <td>0</td>\n",
       "      <td>25378</td>\n",
       "      <td>wedding</td>\n",
       "      <td>[to, have, a, wedding]</td>\n",
       "    </tr>\n",
       "  </tbody>\n",
       "</table>\n",
       "</div>"
      ],
      "text/plain": [
       "  children  days_employed  dob_years            education  education_id  \\\n",
       "0     have          -8437         42    bachelor's degree             0   \n",
       "1     have          -4024         36  secondary education             1   \n",
       "2  no kids          -5623         33  secondary education             1   \n",
       "3     have          -4124         32  secondary education             1   \n",
       "4  no kids         340266         53  secondary education             1   \n",
       "\n",
       "       family_status  family_status_id gender income_type  debt  total_income  \\\n",
       "0            married                 0      F    employee     0         40620   \n",
       "1            married                 0      F    employee     0         17932   \n",
       "2            married                 0      M    employee     0         23341   \n",
       "3            married                 0      M    employee     0         42820   \n",
       "4  civil partnership                 1      F     retiree     0         25378   \n",
       "\n",
       "     purpose               purpose_lemma  \n",
       "0     estate  [purchase, of, the, house]  \n",
       "1        car             [car, purchase]  \n",
       "2     estate  [purchase, of, the, house]  \n",
       "3  education  [supplementary, education]  \n",
       "4    wedding      [to, have, a, wedding]  "
      ]
     },
     "execution_count": 36,
     "metadata": {},
     "output_type": "execute_result"
    }
   ],
   "source": [
    "def have_children(childrens):\n",
    "    if childrens == 0:\n",
    "        return 'no kids'\n",
    "    else:\n",
    "        return 'have'\n",
    "\n",
    "report['children'] = report['children'].apply(have_children)\n",
    "report.head()"
   ]
  },
  {
   "cell_type": "code",
   "execution_count": 37,
   "metadata": {},
   "outputs": [
    {
     "data": {
      "text/html": [
       "<div>\n",
       "<style scoped>\n",
       "    .dataframe tbody tr th:only-of-type {\n",
       "        vertical-align: middle;\n",
       "    }\n",
       "\n",
       "    .dataframe tbody tr th {\n",
       "        vertical-align: top;\n",
       "    }\n",
       "\n",
       "    .dataframe thead tr th {\n",
       "        text-align: left;\n",
       "    }\n",
       "\n",
       "    .dataframe thead tr:last-of-type th {\n",
       "        text-align: right;\n",
       "    }\n",
       "</style>\n",
       "<table border=\"1\" class=\"dataframe\">\n",
       "  <thead>\n",
       "    <tr>\n",
       "      <th></th>\n",
       "      <th colspan=\"2\" halign=\"left\">debt</th>\n",
       "    </tr>\n",
       "    <tr>\n",
       "      <th></th>\n",
       "      <th>count</th>\n",
       "      <th>sum</th>\n",
       "    </tr>\n",
       "    <tr>\n",
       "      <th>children</th>\n",
       "      <th></th>\n",
       "      <th></th>\n",
       "    </tr>\n",
       "  </thead>\n",
       "  <tbody>\n",
       "    <tr>\n",
       "      <td>have</td>\n",
       "      <td>7376</td>\n",
       "      <td>678</td>\n",
       "    </tr>\n",
       "    <tr>\n",
       "      <td>no kids</td>\n",
       "      <td>14149</td>\n",
       "      <td>1063</td>\n",
       "    </tr>\n",
       "  </tbody>\n",
       "</table>\n",
       "</div>"
      ],
      "text/plain": [
       "           debt      \n",
       "          count   sum\n",
       "children             \n",
       "have       7376   678\n",
       "no kids   14149  1063"
      ]
     },
     "execution_count": 37,
     "metadata": {},
     "output_type": "execute_result"
    }
   ],
   "source": [
    "report_children_grouped = report.groupby('children').agg({'debt': ['count', 'sum']})\n",
    "report_children_grouped"
   ]
  },
  {
   "cell_type": "code",
   "execution_count": 38,
   "metadata": {},
   "outputs": [
    {
     "data": {
      "text/html": [
       "<div>\n",
       "<style scoped>\n",
       "    .dataframe tbody tr th:only-of-type {\n",
       "        vertical-align: middle;\n",
       "    }\n",
       "\n",
       "    .dataframe tbody tr th {\n",
       "        vertical-align: top;\n",
       "    }\n",
       "\n",
       "    .dataframe thead tr th {\n",
       "        text-align: left;\n",
       "    }\n",
       "\n",
       "    .dataframe thead tr:last-of-type th {\n",
       "        text-align: right;\n",
       "    }\n",
       "</style>\n",
       "<table border=\"1\" class=\"dataframe\">\n",
       "  <thead>\n",
       "    <tr>\n",
       "      <th></th>\n",
       "      <th colspan=\"2\" halign=\"left\">debt</th>\n",
       "      <th>unpaid</th>\n",
       "    </tr>\n",
       "    <tr>\n",
       "      <th></th>\n",
       "      <th>count</th>\n",
       "      <th>sum</th>\n",
       "      <th></th>\n",
       "    </tr>\n",
       "    <tr>\n",
       "      <th>children</th>\n",
       "      <th></th>\n",
       "      <th></th>\n",
       "      <th></th>\n",
       "    </tr>\n",
       "  </thead>\n",
       "  <tbody>\n",
       "    <tr>\n",
       "      <td>have</td>\n",
       "      <td>7376</td>\n",
       "      <td>678</td>\n",
       "      <td>9.191974</td>\n",
       "    </tr>\n",
       "    <tr>\n",
       "      <td>no kids</td>\n",
       "      <td>14149</td>\n",
       "      <td>1063</td>\n",
       "      <td>7.512898</td>\n",
       "    </tr>\n",
       "  </tbody>\n",
       "</table>\n",
       "</div>"
      ],
      "text/plain": [
       "           debt          unpaid\n",
       "          count   sum          \n",
       "children                       \n",
       "have       7376   678  9.191974\n",
       "no kids   14149  1063  7.512898"
      ]
     },
     "execution_count": 38,
     "metadata": {},
     "output_type": "execute_result"
    }
   ],
   "source": [
    "report_children_grouped['unpaid'] = report_children_grouped['debt']['sum'] / report_children_grouped['debt']['count'] * 100\n",
    "report_children_grouped"
   ]
  },
  {
   "cell_type": "markdown",
   "metadata": {},
   "source": [
    "### Conclusion"
   ]
  },
  {
   "cell_type": "markdown",
   "metadata": {},
   "source": [
    "To analyse how having children impact on credit score I calculated percentage of unpaid loan due to having children category and debt column. As we see as more children in family as more unpaid credit score. There is 2% of difference between childfree clients and clients with children. So I can assume that having children impact on credit score but not too much."
   ]
  },
  {
   "cell_type": "markdown",
   "metadata": {},
   "source": [
    "- Is there a relation between marital status and repaying a loan on time?"
   ]
  },
  {
   "cell_type": "code",
   "execution_count": 39,
   "metadata": {},
   "outputs": [
    {
     "data": {
      "text/plain": [
       "married              12380\n",
       "civil partnership     4177\n",
       "unmarried             2813\n",
       "divorced              1195\n",
       "widow / widower        960\n",
       "Name: family_status, dtype: int64"
      ]
     },
     "execution_count": 39,
     "metadata": {},
     "output_type": "execute_result"
    }
   ],
   "source": [
    "report['family_status'].value_counts()"
   ]
  },
  {
   "cell_type": "code",
   "execution_count": 40,
   "metadata": {},
   "outputs": [
    {
     "data": {
      "text/plain": [
       "0    12380\n",
       "1     4177\n",
       "4     2813\n",
       "3     1195\n",
       "2      960\n",
       "Name: family_status_id, dtype: int64"
      ]
     },
     "execution_count": 40,
     "metadata": {},
     "output_type": "execute_result"
    }
   ],
   "source": [
    "report['family_status_id'].value_counts()"
   ]
  },
  {
   "cell_type": "code",
   "execution_count": 41,
   "metadata": {},
   "outputs": [
    {
     "data": {
      "text/html": [
       "<div>\n",
       "<style scoped>\n",
       "    .dataframe tbody tr th:only-of-type {\n",
       "        vertical-align: middle;\n",
       "    }\n",
       "\n",
       "    .dataframe tbody tr th {\n",
       "        vertical-align: top;\n",
       "    }\n",
       "\n",
       "    .dataframe thead th {\n",
       "        text-align: right;\n",
       "    }\n",
       "</style>\n",
       "<table border=\"1\" class=\"dataframe\">\n",
       "  <thead>\n",
       "    <tr style=\"text-align: right;\">\n",
       "      <th></th>\n",
       "      <th>children</th>\n",
       "      <th>days_employed</th>\n",
       "      <th>dob_years</th>\n",
       "      <th>education</th>\n",
       "      <th>education_id</th>\n",
       "      <th>family_status</th>\n",
       "      <th>family_status_id</th>\n",
       "      <th>gender</th>\n",
       "      <th>income_type</th>\n",
       "      <th>debt</th>\n",
       "      <th>total_income</th>\n",
       "      <th>purpose</th>\n",
       "      <th>purpose_lemma</th>\n",
       "    </tr>\n",
       "  </thead>\n",
       "  <tbody>\n",
       "    <tr>\n",
       "      <td>0</td>\n",
       "      <td>have</td>\n",
       "      <td>-8437</td>\n",
       "      <td>42</td>\n",
       "      <td>bachelor's degree</td>\n",
       "      <td>0</td>\n",
       "      <td>married</td>\n",
       "      <td>married</td>\n",
       "      <td>F</td>\n",
       "      <td>employee</td>\n",
       "      <td>0</td>\n",
       "      <td>40620</td>\n",
       "      <td>estate</td>\n",
       "      <td>[purchase, of, the, house]</td>\n",
       "    </tr>\n",
       "    <tr>\n",
       "      <td>1</td>\n",
       "      <td>have</td>\n",
       "      <td>-4024</td>\n",
       "      <td>36</td>\n",
       "      <td>secondary education</td>\n",
       "      <td>1</td>\n",
       "      <td>married</td>\n",
       "      <td>married</td>\n",
       "      <td>F</td>\n",
       "      <td>employee</td>\n",
       "      <td>0</td>\n",
       "      <td>17932</td>\n",
       "      <td>car</td>\n",
       "      <td>[car, purchase]</td>\n",
       "    </tr>\n",
       "    <tr>\n",
       "      <td>2</td>\n",
       "      <td>no kids</td>\n",
       "      <td>-5623</td>\n",
       "      <td>33</td>\n",
       "      <td>secondary education</td>\n",
       "      <td>1</td>\n",
       "      <td>married</td>\n",
       "      <td>married</td>\n",
       "      <td>M</td>\n",
       "      <td>employee</td>\n",
       "      <td>0</td>\n",
       "      <td>23341</td>\n",
       "      <td>estate</td>\n",
       "      <td>[purchase, of, the, house]</td>\n",
       "    </tr>\n",
       "    <tr>\n",
       "      <td>3</td>\n",
       "      <td>have</td>\n",
       "      <td>-4124</td>\n",
       "      <td>32</td>\n",
       "      <td>secondary education</td>\n",
       "      <td>1</td>\n",
       "      <td>married</td>\n",
       "      <td>married</td>\n",
       "      <td>M</td>\n",
       "      <td>employee</td>\n",
       "      <td>0</td>\n",
       "      <td>42820</td>\n",
       "      <td>education</td>\n",
       "      <td>[supplementary, education]</td>\n",
       "    </tr>\n",
       "    <tr>\n",
       "      <td>4</td>\n",
       "      <td>no kids</td>\n",
       "      <td>340266</td>\n",
       "      <td>53</td>\n",
       "      <td>secondary education</td>\n",
       "      <td>1</td>\n",
       "      <td>civil partnership</td>\n",
       "      <td>married</td>\n",
       "      <td>F</td>\n",
       "      <td>retiree</td>\n",
       "      <td>0</td>\n",
       "      <td>25378</td>\n",
       "      <td>wedding</td>\n",
       "      <td>[to, have, a, wedding]</td>\n",
       "    </tr>\n",
       "  </tbody>\n",
       "</table>\n",
       "</div>"
      ],
      "text/plain": [
       "  children  days_employed  dob_years            education  education_id  \\\n",
       "0     have          -8437         42    bachelor's degree             0   \n",
       "1     have          -4024         36  secondary education             1   \n",
       "2  no kids          -5623         33  secondary education             1   \n",
       "3     have          -4124         32  secondary education             1   \n",
       "4  no kids         340266         53  secondary education             1   \n",
       "\n",
       "       family_status family_status_id gender income_type  debt  total_income  \\\n",
       "0            married          married      F    employee     0         40620   \n",
       "1            married          married      F    employee     0         17932   \n",
       "2            married          married      M    employee     0         23341   \n",
       "3            married          married      M    employee     0         42820   \n",
       "4  civil partnership          married      F     retiree     0         25378   \n",
       "\n",
       "     purpose               purpose_lemma  \n",
       "0     estate  [purchase, of, the, house]  \n",
       "1        car             [car, purchase]  \n",
       "2     estate  [purchase, of, the, house]  \n",
       "3  education  [supplementary, education]  \n",
       "4    wedding      [to, have, a, wedding]  "
      ]
     },
     "execution_count": 41,
     "metadata": {},
     "output_type": "execute_result"
    }
   ],
   "source": [
    "def family_cat(family_id):\n",
    "    if family_id == 0:\n",
    "        return 'married'\n",
    "    if family_id == 1:\n",
    "        return 'married'\n",
    "    else:\n",
    "        return 'single'\n",
    "\n",
    "report['family_status_id'] = report['family_status_id'].apply(family_cat)\n",
    "report.head()"
   ]
  },
  {
   "cell_type": "code",
   "execution_count": 42,
   "metadata": {},
   "outputs": [
    {
     "data": {
      "text/html": [
       "<div>\n",
       "<style scoped>\n",
       "    .dataframe tbody tr th:only-of-type {\n",
       "        vertical-align: middle;\n",
       "    }\n",
       "\n",
       "    .dataframe tbody tr th {\n",
       "        vertical-align: top;\n",
       "    }\n",
       "\n",
       "    .dataframe thead tr th {\n",
       "        text-align: left;\n",
       "    }\n",
       "\n",
       "    .dataframe thead tr:last-of-type th {\n",
       "        text-align: right;\n",
       "    }\n",
       "</style>\n",
       "<table border=\"1\" class=\"dataframe\">\n",
       "  <thead>\n",
       "    <tr>\n",
       "      <th></th>\n",
       "      <th colspan=\"2\" halign=\"left\">debt</th>\n",
       "      <th>unpaid</th>\n",
       "    </tr>\n",
       "    <tr>\n",
       "      <th></th>\n",
       "      <th>count</th>\n",
       "      <th>sum</th>\n",
       "      <th></th>\n",
       "    </tr>\n",
       "    <tr>\n",
       "      <th>family_status_id</th>\n",
       "      <th></th>\n",
       "      <th></th>\n",
       "      <th></th>\n",
       "    </tr>\n",
       "  </thead>\n",
       "  <tbody>\n",
       "    <tr>\n",
       "      <td>married</td>\n",
       "      <td>16557</td>\n",
       "      <td>1319</td>\n",
       "      <td>7.966419</td>\n",
       "    </tr>\n",
       "    <tr>\n",
       "      <td>single</td>\n",
       "      <td>4968</td>\n",
       "      <td>422</td>\n",
       "      <td>8.494364</td>\n",
       "    </tr>\n",
       "  </tbody>\n",
       "</table>\n",
       "</div>"
      ],
      "text/plain": [
       "                   debt          unpaid\n",
       "                  count   sum          \n",
       "family_status_id                       \n",
       "married           16557  1319  7.966419\n",
       "single             4968   422  8.494364"
      ]
     },
     "execution_count": 42,
     "metadata": {},
     "output_type": "execute_result"
    }
   ],
   "source": [
    "report_family_grouped = report.groupby('family_status_id').agg({'debt': ['count', 'sum']})\n",
    "report_family_grouped['unpaid'] = report_family_grouped['debt']['sum'] / report_family_grouped['debt']['count'] * 100\n",
    "report_family_grouped"
   ]
  },
  {
   "cell_type": "markdown",
   "metadata": {},
   "source": [
    "### Conclusion"
   ]
  },
  {
   "cell_type": "markdown",
   "metadata": {},
   "source": [
    "There is a quite small difference between married and single clients. So marital status doesn't impact much on credit score"
   ]
  },
  {
   "cell_type": "markdown",
   "metadata": {},
   "source": [
    "- Is there a relation between income level and repaying a loan on time?"
   ]
  },
  {
   "cell_type": "code",
   "execution_count": 43,
   "metadata": {},
   "outputs": [
    {
     "data": {
      "text/html": [
       "<div>\n",
       "<style scoped>\n",
       "    .dataframe tbody tr th:only-of-type {\n",
       "        vertical-align: middle;\n",
       "    }\n",
       "\n",
       "    .dataframe tbody tr th {\n",
       "        vertical-align: top;\n",
       "    }\n",
       "\n",
       "    .dataframe thead th {\n",
       "        text-align: right;\n",
       "    }\n",
       "</style>\n",
       "<table border=\"1\" class=\"dataframe\">\n",
       "  <thead>\n",
       "    <tr style=\"text-align: right;\">\n",
       "      <th></th>\n",
       "      <th>children</th>\n",
       "      <th>days_employed</th>\n",
       "      <th>dob_years</th>\n",
       "      <th>education</th>\n",
       "      <th>education_id</th>\n",
       "      <th>family_status</th>\n",
       "      <th>family_status_id</th>\n",
       "      <th>gender</th>\n",
       "      <th>income_type</th>\n",
       "      <th>debt</th>\n",
       "      <th>total_income</th>\n",
       "      <th>purpose</th>\n",
       "      <th>purpose_lemma</th>\n",
       "    </tr>\n",
       "  </thead>\n",
       "  <tbody>\n",
       "    <tr>\n",
       "      <td>0</td>\n",
       "      <td>have</td>\n",
       "      <td>-8437</td>\n",
       "      <td>42</td>\n",
       "      <td>bachelor's degree</td>\n",
       "      <td>0</td>\n",
       "      <td>married</td>\n",
       "      <td>married</td>\n",
       "      <td>F</td>\n",
       "      <td>employee</td>\n",
       "      <td>0</td>\n",
       "      <td>high</td>\n",
       "      <td>estate</td>\n",
       "      <td>[purchase, of, the, house]</td>\n",
       "    </tr>\n",
       "    <tr>\n",
       "      <td>1</td>\n",
       "      <td>have</td>\n",
       "      <td>-4024</td>\n",
       "      <td>36</td>\n",
       "      <td>secondary education</td>\n",
       "      <td>1</td>\n",
       "      <td>married</td>\n",
       "      <td>married</td>\n",
       "      <td>F</td>\n",
       "      <td>employee</td>\n",
       "      <td>0</td>\n",
       "      <td>low</td>\n",
       "      <td>car</td>\n",
       "      <td>[car, purchase]</td>\n",
       "    </tr>\n",
       "    <tr>\n",
       "      <td>2</td>\n",
       "      <td>no kids</td>\n",
       "      <td>-5623</td>\n",
       "      <td>33</td>\n",
       "      <td>secondary education</td>\n",
       "      <td>1</td>\n",
       "      <td>married</td>\n",
       "      <td>married</td>\n",
       "      <td>M</td>\n",
       "      <td>employee</td>\n",
       "      <td>0</td>\n",
       "      <td>low</td>\n",
       "      <td>estate</td>\n",
       "      <td>[purchase, of, the, house]</td>\n",
       "    </tr>\n",
       "    <tr>\n",
       "      <td>3</td>\n",
       "      <td>have</td>\n",
       "      <td>-4124</td>\n",
       "      <td>32</td>\n",
       "      <td>secondary education</td>\n",
       "      <td>1</td>\n",
       "      <td>married</td>\n",
       "      <td>married</td>\n",
       "      <td>M</td>\n",
       "      <td>employee</td>\n",
       "      <td>0</td>\n",
       "      <td>high</td>\n",
       "      <td>education</td>\n",
       "      <td>[supplementary, education]</td>\n",
       "    </tr>\n",
       "    <tr>\n",
       "      <td>4</td>\n",
       "      <td>no kids</td>\n",
       "      <td>340266</td>\n",
       "      <td>53</td>\n",
       "      <td>secondary education</td>\n",
       "      <td>1</td>\n",
       "      <td>civil partnership</td>\n",
       "      <td>married</td>\n",
       "      <td>F</td>\n",
       "      <td>retiree</td>\n",
       "      <td>0</td>\n",
       "      <td>high</td>\n",
       "      <td>wedding</td>\n",
       "      <td>[to, have, a, wedding]</td>\n",
       "    </tr>\n",
       "  </tbody>\n",
       "</table>\n",
       "</div>"
      ],
      "text/plain": [
       "  children  days_employed  dob_years            education  education_id  \\\n",
       "0     have          -8437         42    bachelor's degree             0   \n",
       "1     have          -4024         36  secondary education             1   \n",
       "2  no kids          -5623         33  secondary education             1   \n",
       "3     have          -4124         32  secondary education             1   \n",
       "4  no kids         340266         53  secondary education             1   \n",
       "\n",
       "       family_status family_status_id gender income_type  debt total_income  \\\n",
       "0            married          married      F    employee     0         high   \n",
       "1            married          married      F    employee     0          low   \n",
       "2            married          married      M    employee     0          low   \n",
       "3            married          married      M    employee     0         high   \n",
       "4  civil partnership          married      F     retiree     0         high   \n",
       "\n",
       "     purpose               purpose_lemma  \n",
       "0     estate  [purchase, of, the, house]  \n",
       "1        car             [car, purchase]  \n",
       "2     estate  [purchase, of, the, house]  \n",
       "3  education  [supplementary, education]  \n",
       "4    wedding      [to, have, a, wedding]  "
      ]
     },
     "execution_count": 43,
     "metadata": {},
     "output_type": "execute_result"
    }
   ],
   "source": [
    "def income_level(mon):\n",
    "    if mon >= report['total_income'].mean():\n",
    "        return 'high'\n",
    "    else:\n",
    "        return 'low'\n",
    "    \n",
    "report['total_income'] = report['total_income'].apply(income_level)\n",
    "report.head()"
   ]
  },
  {
   "cell_type": "code",
   "execution_count": 44,
   "metadata": {},
   "outputs": [
    {
     "data": {
      "text/html": [
       "<div>\n",
       "<style scoped>\n",
       "    .dataframe tbody tr th:only-of-type {\n",
       "        vertical-align: middle;\n",
       "    }\n",
       "\n",
       "    .dataframe tbody tr th {\n",
       "        vertical-align: top;\n",
       "    }\n",
       "\n",
       "    .dataframe thead tr th {\n",
       "        text-align: left;\n",
       "    }\n",
       "\n",
       "    .dataframe thead tr:last-of-type th {\n",
       "        text-align: right;\n",
       "    }\n",
       "</style>\n",
       "<table border=\"1\" class=\"dataframe\">\n",
       "  <thead>\n",
       "    <tr>\n",
       "      <th></th>\n",
       "      <th colspan=\"2\" halign=\"left\">debt</th>\n",
       "      <th>unpaid</th>\n",
       "    </tr>\n",
       "    <tr>\n",
       "      <th></th>\n",
       "      <th>count</th>\n",
       "      <th>sum</th>\n",
       "      <th></th>\n",
       "    </tr>\n",
       "    <tr>\n",
       "      <th>total_income</th>\n",
       "      <th></th>\n",
       "      <th></th>\n",
       "      <th></th>\n",
       "    </tr>\n",
       "  </thead>\n",
       "  <tbody>\n",
       "    <tr>\n",
       "      <td>high</td>\n",
       "      <td>9147</td>\n",
       "      <td>719</td>\n",
       "      <td>7.860501</td>\n",
       "    </tr>\n",
       "    <tr>\n",
       "      <td>low</td>\n",
       "      <td>12378</td>\n",
       "      <td>1022</td>\n",
       "      <td>8.256584</td>\n",
       "    </tr>\n",
       "  </tbody>\n",
       "</table>\n",
       "</div>"
      ],
      "text/plain": [
       "               debt          unpaid\n",
       "              count   sum          \n",
       "total_income                       \n",
       "high           9147   719  7.860501\n",
       "low           12378  1022  8.256584"
      ]
     },
     "execution_count": 44,
     "metadata": {},
     "output_type": "execute_result"
    }
   ],
   "source": [
    "report_income_grouped = report.groupby('total_income').agg({'debt': ['count', 'sum']})\n",
    "report_income_grouped['unpaid'] = report_income_grouped['debt']['sum'] / report_income_grouped['debt']['count'] * 100\n",
    "report_income_grouped"
   ]
  },
  {
   "cell_type": "markdown",
   "metadata": {},
   "source": [
    "### Conclusion"
   ]
  },
  {
   "cell_type": "markdown",
   "metadata": {},
   "source": [
    "There is no big difference between clients with high and low income. Income doesn't impact much on credit score"
   ]
  },
  {
   "cell_type": "markdown",
   "metadata": {},
   "source": [
    "- How do different loan purposes affect on-time repayment of the loan?"
   ]
  },
  {
   "cell_type": "code",
   "execution_count": 45,
   "metadata": {},
   "outputs": [
    {
     "data": {
      "text/html": [
       "<div>\n",
       "<style scoped>\n",
       "    .dataframe tbody tr th:only-of-type {\n",
       "        vertical-align: middle;\n",
       "    }\n",
       "\n",
       "    .dataframe tbody tr th {\n",
       "        vertical-align: top;\n",
       "    }\n",
       "\n",
       "    .dataframe thead tr th {\n",
       "        text-align: left;\n",
       "    }\n",
       "\n",
       "    .dataframe thead tr:last-of-type th {\n",
       "        text-align: right;\n",
       "    }\n",
       "</style>\n",
       "<table border=\"1\" class=\"dataframe\">\n",
       "  <thead>\n",
       "    <tr>\n",
       "      <th></th>\n",
       "      <th colspan=\"2\" halign=\"left\">debt</th>\n",
       "      <th>unpaid</th>\n",
       "    </tr>\n",
       "    <tr>\n",
       "      <th></th>\n",
       "      <th>count</th>\n",
       "      <th>sum</th>\n",
       "      <th></th>\n",
       "    </tr>\n",
       "    <tr>\n",
       "      <th>purpose</th>\n",
       "      <th></th>\n",
       "      <th></th>\n",
       "      <th></th>\n",
       "    </tr>\n",
       "  </thead>\n",
       "  <tbody>\n",
       "    <tr>\n",
       "      <td>car</td>\n",
       "      <td>4315</td>\n",
       "      <td>403</td>\n",
       "      <td>9.339513</td>\n",
       "    </tr>\n",
       "    <tr>\n",
       "      <td>education</td>\n",
       "      <td>4022</td>\n",
       "      <td>370</td>\n",
       "      <td>9.199403</td>\n",
       "    </tr>\n",
       "    <tr>\n",
       "      <td>estate</td>\n",
       "      <td>10840</td>\n",
       "      <td>782</td>\n",
       "      <td>7.214022</td>\n",
       "    </tr>\n",
       "    <tr>\n",
       "      <td>wedding</td>\n",
       "      <td>2348</td>\n",
       "      <td>186</td>\n",
       "      <td>7.921635</td>\n",
       "    </tr>\n",
       "  </tbody>\n",
       "</table>\n",
       "</div>"
      ],
      "text/plain": [
       "            debt         unpaid\n",
       "           count  sum          \n",
       "purpose                        \n",
       "car         4315  403  9.339513\n",
       "education   4022  370  9.199403\n",
       "estate     10840  782  7.214022\n",
       "wedding     2348  186  7.921635"
      ]
     },
     "execution_count": 45,
     "metadata": {},
     "output_type": "execute_result"
    }
   ],
   "source": [
    "report_purpose_grouped = report.groupby('purpose').agg({'debt': ['count', 'sum']})\n",
    "report_purpose_grouped['unpaid'] = report_purpose_grouped['debt']['sum'] / report_purpose_grouped['debt']['count'] * 100\n",
    "report_purpose_grouped"
   ]
  },
  {
   "cell_type": "markdown",
   "metadata": {},
   "source": [
    "### Conclusion"
   ]
  },
  {
   "cell_type": "markdown",
   "metadata": {},
   "source": [
    "The lowest unpaid score have client who got the loan for buying estate. The highest unpaid score have client with car and educational purposes. Need to pay attetion on it when getting application with those purposes"
   ]
  },
  {
   "cell_type": "markdown",
   "metadata": {},
   "source": [
    "## General conclusion"
   ]
  },
  {
   "cell_type": "markdown",
   "metadata": {},
   "source": [
    "In this project I had a data from bank and was needed to analyze and made a conclusion about credit score of clients. \n",
    "First of all I looked carefully on the DataFrame I have. The table consists from 12 columns and 21525 rows. Data types are float64 - 2 columns, int64 - 5 columns and object - 5 columns. On the first look the names of columns are normal without any anomalies. In this table there are few problems on the first look. I see missing values in columns 'days_employed' and 'total_income'. Since the amount of missing values for those columns is equal I can think that need to check connection between them. Also I can see non-logical values in the columns days_employed (negative values and too big values), children (negative values and too big(need to check)) and different case register in the 'education' column.\n",
    "First of all I checked missing values. I saw that the amount of missing values in columns 'days_employed' and 'total_income' are equal. I made a conclusion that there is connect between them. I made a conclusion that there are people who've never worked that why they don't have any income. In most cases it can be people who just turned on 21. I filtered results for 3 columns 'days_employed', 'total_income' and 'dob_years' and saw that missing values matched. Changed them to 0.\n",
    "In two columns 'days_employed' and 'total_income' there were values float64 type. I changed type to int64 and now we have valuse comfortable for math operations and comparing.\n",
    "In the column 'education' were duplicates values caused by a different type of cases. With the help of str.lower() method I succeded to get values without duplicates. Also there was interesting case in 'gender' column. There was one person who doesn't identify himsef with any gender. Renoving this row weren't right step, because I would lost a data from it, so I decided to replace it with majority gender Female, so it will not influence a lot at the all of data. In the column 'children' were weird values like 20 and -1. Analyzing the table I found impossible that people have 20 children in 21 years old, also -1 is not logical. Finding mean and median also brang no clean results, because median was 0 and it can impact on all of data if replace 20 children, also mean was 0.5 what was no good also. So I can assume that it was mistake and should be 2 and 1 children. Replaced 20 and -1 values with 2 and 1. Upon checking the 'children' column I noticed a value 0 in 'dob_years' column which is impossible. Calculating mean and median and decided to use median for replacement because mean was not integer value and we don't want float in our calculation.\n",
    "IN the column 'purpose' with the help of lemmatization I was able to group all purposes to 4 main categories. So I will be able to analize the credit score depending on purpose.\n",
    "After all preparation I've got a clean data for work. Upon analyzing I may assume that the lowest credit score have clients with kids and those who want to get a loan for buying a car or for education. Actually it does make sence, because family with kids need much more money for their everday needs, and this is extra expences for the family. About clients who want to take loan for education. I think the most of those clients are students, who don't have job experience yet, the most of them have unstable permanent job. Married clients I guess become more responsible after marriage and pay a little bit better then single. High income allows customers to feel a little be more comfident with payments and pay in time.\n",
    "Buying a car increases expences and this impacts on the credit score. Because car needs extra money\n",
    "Loan for wedding and estate have a low unpaid score because people who decided married and buy a house are more responsible.\n",
    "\n",
    "\n",
    "\n"
   ]
  },
  {
   "cell_type": "code",
   "execution_count": null,
   "metadata": {},
   "outputs": [],
   "source": []
  }
 ],
 "metadata": {
  "ExecuteTimeLog": [
   {
    "duration": 96,
    "start_time": "2021-10-10T17:02:41.118Z"
   },
   {
    "duration": 1179,
    "start_time": "2021-10-10T17:03:25.367Z"
   },
   {
    "duration": 15,
    "start_time": "2021-10-10T17:03:58.026Z"
   },
   {
    "duration": 365,
    "start_time": "2021-10-10T17:04:41.727Z"
   },
   {
    "duration": 49,
    "start_time": "2021-10-10T17:05:15.116Z"
   },
   {
    "duration": 13,
    "start_time": "2021-10-10T17:13:16.807Z"
   },
   {
    "duration": 15,
    "start_time": "2021-10-10T17:14:36.918Z"
   },
   {
    "duration": 27,
    "start_time": "2021-10-10T17:16:56.078Z"
   },
   {
    "duration": 13,
    "start_time": "2021-10-10T17:17:24.646Z"
   },
   {
    "duration": 795,
    "start_time": "2021-10-11T15:33:32.796Z"
   },
   {
    "duration": 15,
    "start_time": "2021-10-11T15:33:33.594Z"
   },
   {
    "duration": 70,
    "start_time": "2021-10-11T15:33:33.613Z"
   },
   {
    "duration": 12,
    "start_time": "2021-10-11T15:33:33.686Z"
   },
   {
    "duration": 15,
    "start_time": "2021-10-11T15:33:33.701Z"
   },
   {
    "duration": 57,
    "start_time": "2021-10-11T15:33:33.718Z"
   },
   {
    "duration": 14,
    "start_time": "2021-10-11T15:33:33.778Z"
   },
   {
    "duration": 269,
    "start_time": "2021-10-12T08:51:04.758Z"
   },
   {
    "duration": 215,
    "start_time": "2021-10-12T08:51:46.177Z"
   },
   {
    "duration": 252,
    "start_time": "2021-10-12T08:52:11.647Z"
   },
   {
    "duration": 236,
    "start_time": "2021-10-12T08:53:50.559Z"
   },
   {
    "duration": 230,
    "start_time": "2021-10-12T08:54:17.585Z"
   },
   {
    "duration": 221,
    "start_time": "2021-10-12T08:55:50.388Z"
   },
   {
    "duration": 333,
    "start_time": "2021-10-12T09:13:47.980Z"
   },
   {
    "duration": 277,
    "start_time": "2021-10-12T09:14:01.376Z"
   },
   {
    "duration": 335,
    "start_time": "2021-10-12T09:14:19.513Z"
   },
   {
    "duration": 783,
    "start_time": "2021-10-12T09:14:36.325Z"
   },
   {
    "duration": 14,
    "start_time": "2021-10-12T09:16:08.576Z"
   },
   {
    "duration": 270,
    "start_time": "2021-10-12T09:18:09.747Z"
   },
   {
    "duration": 70,
    "start_time": "2021-10-12T09:18:53.017Z"
   },
   {
    "duration": 47,
    "start_time": "2021-10-12T09:19:03.027Z"
   },
   {
    "duration": 13,
    "start_time": "2021-10-12T09:19:13.456Z"
   },
   {
    "duration": 14,
    "start_time": "2021-10-12T09:19:23.238Z"
   },
   {
    "duration": 22,
    "start_time": "2021-10-12T09:19:33.477Z"
   },
   {
    "duration": 12,
    "start_time": "2021-10-12T09:19:47.376Z"
   },
   {
    "duration": 6,
    "start_time": "2021-10-12T09:19:57.396Z"
   },
   {
    "duration": 15,
    "start_time": "2021-10-12T09:20:03.826Z"
   },
   {
    "duration": 7,
    "start_time": "2021-10-12T09:22:54.897Z"
   },
   {
    "duration": 11,
    "start_time": "2021-10-12T09:23:30.827Z"
   },
   {
    "duration": 20,
    "start_time": "2021-10-12T09:24:07.566Z"
   },
   {
    "duration": 231,
    "start_time": "2021-10-12T09:24:38.304Z"
   },
   {
    "duration": 8,
    "start_time": "2021-10-12T09:25:01.806Z"
   },
   {
    "duration": 27,
    "start_time": "2021-10-12T09:25:15.887Z"
   },
   {
    "duration": 7,
    "start_time": "2021-10-12T09:33:40.794Z"
   },
   {
    "duration": 13,
    "start_time": "2021-10-12T09:33:45.884Z"
   },
   {
    "duration": 18,
    "start_time": "2021-10-12T09:33:51.724Z"
   },
   {
    "duration": 10,
    "start_time": "2021-10-12T09:38:04.176Z"
   },
   {
    "duration": 28,
    "start_time": "2021-10-12T09:39:28.156Z"
   },
   {
    "duration": 240,
    "start_time": "2021-10-12T09:40:17.807Z"
   },
   {
    "duration": 11,
    "start_time": "2021-10-12T09:40:23.266Z"
   },
   {
    "duration": 10,
    "start_time": "2021-10-12T09:41:09.756Z"
   },
   {
    "duration": 10,
    "start_time": "2021-10-12T09:41:45.376Z"
   },
   {
    "duration": 10,
    "start_time": "2021-10-12T09:42:35.586Z"
   },
   {
    "duration": 6849,
    "start_time": "2021-10-12T09:43:54.546Z"
   },
   {
    "duration": 17,
    "start_time": "2021-10-12T09:44:04.207Z"
   },
   {
    "duration": 8,
    "start_time": "2021-10-12T09:45:49.526Z"
   },
   {
    "duration": 10,
    "start_time": "2021-10-12T09:46:11.377Z"
   },
   {
    "duration": 11,
    "start_time": "2021-10-12T09:46:48.056Z"
   },
   {
    "duration": 253,
    "start_time": "2021-10-12T10:33:45.545Z"
   },
   {
    "duration": 247,
    "start_time": "2021-10-12T10:34:02.227Z"
   },
   {
    "duration": 520,
    "start_time": "2021-10-12T10:36:35.869Z"
   },
   {
    "duration": 798,
    "start_time": "2021-10-12T10:37:18.101Z"
   },
   {
    "duration": 15,
    "start_time": "2021-10-12T10:37:25.716Z"
   },
   {
    "duration": 49,
    "start_time": "2021-10-12T10:37:29.361Z"
   },
   {
    "duration": 12,
    "start_time": "2021-10-12T10:37:39.482Z"
   },
   {
    "duration": 14,
    "start_time": "2021-10-12T10:37:48.391Z"
   },
   {
    "duration": 23,
    "start_time": "2021-10-12T10:37:57.891Z"
   },
   {
    "duration": 17,
    "start_time": "2021-10-12T10:38:07.741Z"
   },
   {
    "duration": 6,
    "start_time": "2021-10-12T10:38:17.972Z"
   },
   {
    "duration": 16,
    "start_time": "2021-10-12T10:38:27.152Z"
   },
   {
    "duration": 19,
    "start_time": "2021-10-12T10:38:36.831Z"
   },
   {
    "duration": 10,
    "start_time": "2021-10-12T10:38:49.501Z"
   },
   {
    "duration": 28,
    "start_time": "2021-10-12T10:38:59.242Z"
   },
   {
    "duration": 11,
    "start_time": "2021-10-12T10:39:09.042Z"
   },
   {
    "duration": 10,
    "start_time": "2021-10-12T10:39:20.711Z"
   },
   {
    "duration": 10,
    "start_time": "2021-10-12T10:39:27.842Z"
   },
   {
    "duration": 9,
    "start_time": "2021-10-12T10:39:36.251Z"
   },
   {
    "duration": 8,
    "start_time": "2021-10-12T10:39:45.504Z"
   },
   {
    "duration": 9,
    "start_time": "2021-10-12T10:39:52.021Z"
   },
   {
    "duration": 11,
    "start_time": "2021-10-12T10:40:02.612Z"
   },
   {
    "duration": 1002,
    "start_time": "2021-10-12T10:40:12.752Z"
   },
   {
    "duration": 8,
    "start_time": "2021-10-12T10:40:32.691Z"
   },
   {
    "duration": 20,
    "start_time": "2021-10-12T10:41:29.102Z"
   },
   {
    "duration": 224,
    "start_time": "2021-10-12T10:42:19.752Z"
   },
   {
    "duration": 8,
    "start_time": "2021-10-12T10:42:31.952Z"
   },
   {
    "duration": 5,
    "start_time": "2021-10-12T10:42:52.672Z"
   },
   {
    "duration": 11,
    "start_time": "2021-10-12T10:44:38.041Z"
   },
   {
    "duration": 9,
    "start_time": "2021-10-12T10:45:31.732Z"
   },
   {
    "duration": 6,
    "start_time": "2021-10-12T10:46:16.492Z"
   },
   {
    "duration": 7,
    "start_time": "2021-10-12T10:46:36.462Z"
   },
   {
    "duration": 6,
    "start_time": "2021-10-12T10:48:17.050Z"
   },
   {
    "duration": 9,
    "start_time": "2021-10-12T10:48:45.672Z"
   },
   {
    "duration": 1169,
    "start_time": "2021-10-12T11:08:35.872Z"
   },
   {
    "duration": 4,
    "start_time": "2021-10-12T11:20:24.762Z"
   },
   {
    "duration": 227,
    "start_time": "2021-10-12T11:21:14.105Z"
   },
   {
    "duration": 5085,
    "start_time": "2021-10-12T11:21:23.412Z"
   },
   {
    "duration": 34,
    "start_time": "2021-10-12T11:22:45.543Z"
   },
   {
    "duration": 10,
    "start_time": "2021-10-12T11:23:36.540Z"
   },
   {
    "duration": 48,
    "start_time": "2021-10-12T11:26:30.321Z"
   },
   {
    "duration": 21,
    "start_time": "2021-10-12T11:34:40.812Z"
   },
   {
    "duration": 17,
    "start_time": "2021-10-12T11:44:26.282Z"
   },
   {
    "duration": 5397,
    "start_time": "2021-10-12T11:46:39.891Z"
   },
   {
    "duration": 224,
    "start_time": "2021-10-12T11:47:12.532Z"
   },
   {
    "duration": 9,
    "start_time": "2021-10-12T11:47:26.882Z"
   },
   {
    "duration": 27,
    "start_time": "2021-10-12T11:48:26.842Z"
   },
   {
    "duration": 20,
    "start_time": "2021-10-12T12:21:34.053Z"
   },
   {
    "duration": 20,
    "start_time": "2021-10-12T12:21:57.823Z"
   },
   {
    "duration": 11,
    "start_time": "2021-10-12T12:22:16.715Z"
   },
   {
    "duration": 10,
    "start_time": "2021-10-12T12:22:53.224Z"
   },
   {
    "duration": 22,
    "start_time": "2021-10-12T12:23:43.523Z"
   },
   {
    "duration": 27,
    "start_time": "2021-10-12T12:26:58.043Z"
   },
   {
    "duration": 220,
    "start_time": "2021-10-12T12:29:25.744Z"
   },
   {
    "duration": 222,
    "start_time": "2021-10-12T12:29:40.584Z"
   },
   {
    "duration": 19,
    "start_time": "2021-10-12T12:29:56.564Z"
   },
   {
    "duration": 9,
    "start_time": "2021-10-12T12:34:59.221Z"
   },
   {
    "duration": 9,
    "start_time": "2021-10-12T12:35:26.173Z"
   },
   {
    "duration": 228,
    "start_time": "2021-10-12T12:39:02.904Z"
   },
   {
    "duration": 32,
    "start_time": "2021-10-12T12:39:08.652Z"
   },
   {
    "duration": 32,
    "start_time": "2021-10-12T12:40:45.774Z"
   },
   {
    "duration": 36,
    "start_time": "2021-10-12T12:41:39.191Z"
   },
   {
    "duration": 31,
    "start_time": "2021-10-12T12:41:55.542Z"
   },
   {
    "duration": 52,
    "start_time": "2021-10-12T12:44:09.645Z"
   },
   {
    "duration": 221,
    "start_time": "2021-10-12T12:52:56.832Z"
   },
   {
    "duration": 234,
    "start_time": "2021-10-12T12:53:44.424Z"
   },
   {
    "duration": 1070,
    "start_time": "2021-10-12T12:54:40.504Z"
   },
   {
    "duration": 219,
    "start_time": "2021-10-12T12:56:25.262Z"
   },
   {
    "duration": 40,
    "start_time": "2021-10-12T12:57:56.726Z"
   },
   {
    "duration": 1045,
    "start_time": "2021-10-12T12:59:04.226Z"
   },
   {
    "duration": 1275,
    "start_time": "2021-10-12T13:03:08.759Z"
   },
   {
    "duration": 227,
    "start_time": "2021-10-12T13:04:18.551Z"
   },
   {
    "duration": 229,
    "start_time": "2021-10-12T13:05:36.410Z"
   },
   {
    "duration": 6,
    "start_time": "2021-10-12T13:07:10.611Z"
   },
   {
    "duration": 8,
    "start_time": "2021-10-12T13:07:39.041Z"
   },
   {
    "duration": 1323,
    "start_time": "2021-10-12T13:10:21.649Z"
   },
   {
    "duration": 952,
    "start_time": "2021-10-12T13:10:59.935Z"
   },
   {
    "duration": 17,
    "start_time": "2021-10-12T13:11:10.055Z"
   },
   {
    "duration": 50,
    "start_time": "2021-10-12T13:11:23.605Z"
   },
   {
    "duration": 13,
    "start_time": "2021-10-12T13:11:36.913Z"
   },
   {
    "duration": 15,
    "start_time": "2021-10-12T13:11:46.075Z"
   },
   {
    "duration": 29,
    "start_time": "2021-10-12T13:11:57.423Z"
   },
   {
    "duration": 14,
    "start_time": "2021-10-12T13:12:12.475Z"
   },
   {
    "duration": 9,
    "start_time": "2021-10-12T13:12:24.536Z"
   },
   {
    "duration": 16,
    "start_time": "2021-10-12T13:12:30.845Z"
   },
   {
    "duration": 46,
    "start_time": "2021-10-12T13:12:43.575Z"
   },
   {
    "duration": 10,
    "start_time": "2021-10-12T13:12:59.173Z"
   },
   {
    "duration": 34,
    "start_time": "2021-10-12T13:13:09.905Z"
   },
   {
    "duration": 12,
    "start_time": "2021-10-12T13:13:25.255Z"
   },
   {
    "duration": 10,
    "start_time": "2021-10-12T13:13:32.005Z"
   },
   {
    "duration": 11,
    "start_time": "2021-10-12T13:13:38.385Z"
   },
   {
    "duration": 10,
    "start_time": "2021-10-12T13:13:48.745Z"
   },
   {
    "duration": 8,
    "start_time": "2021-10-12T13:13:59.344Z"
   },
   {
    "duration": 9,
    "start_time": "2021-10-12T13:14:05.455Z"
   },
   {
    "duration": 11,
    "start_time": "2021-10-12T13:14:12.805Z"
   },
   {
    "duration": 9,
    "start_time": "2021-10-12T13:14:23.585Z"
   },
   {
    "duration": 24,
    "start_time": "2021-10-12T13:14:30.626Z"
   },
   {
    "duration": 6,
    "start_time": "2021-10-12T13:14:41.464Z"
   },
   {
    "duration": 6,
    "start_time": "2021-10-12T13:14:47.855Z"
   },
   {
    "duration": 10,
    "start_time": "2021-10-12T13:14:54.455Z"
   },
   {
    "duration": 9,
    "start_time": "2021-10-12T13:15:02.903Z"
   },
   {
    "duration": 5,
    "start_time": "2021-10-12T13:15:12.535Z"
   },
   {
    "duration": 7,
    "start_time": "2021-10-12T13:15:18.063Z"
   },
   {
    "duration": 5,
    "start_time": "2021-10-12T13:15:25.234Z"
   },
   {
    "duration": 8,
    "start_time": "2021-10-12T13:15:36.365Z"
   },
   {
    "duration": 748,
    "start_time": "2021-10-12T13:15:50.715Z"
   },
   {
    "duration": 5782,
    "start_time": "2021-10-12T13:15:58.105Z"
   },
   {
    "duration": 35,
    "start_time": "2021-10-12T13:16:17.053Z"
   },
   {
    "duration": 12,
    "start_time": "2021-10-12T13:16:29.865Z"
   },
   {
    "duration": 14,
    "start_time": "2021-10-12T13:18:56.034Z"
   },
   {
    "duration": 6,
    "start_time": "2021-10-12T13:21:20.402Z"
   },
   {
    "duration": 8,
    "start_time": "2021-10-12T13:21:46.055Z"
   },
   {
    "duration": 25,
    "start_time": "2021-10-12T13:21:57.414Z"
   },
   {
    "duration": 33,
    "start_time": "2021-10-12T13:22:46.383Z"
   },
   {
    "duration": 10,
    "start_time": "2021-10-12T13:22:48.575Z"
   },
   {
    "duration": 28,
    "start_time": "2021-10-12T13:22:56.024Z"
   },
   {
    "duration": 29,
    "start_time": "2021-10-12T13:27:12.527Z"
   },
   {
    "duration": 28,
    "start_time": "2021-10-12T13:27:53.205Z"
   },
   {
    "duration": 25,
    "start_time": "2021-10-12T13:28:35.796Z"
   },
   {
    "duration": 45,
    "start_time": "2021-10-12T13:30:21.855Z"
   },
   {
    "duration": 55,
    "start_time": "2021-10-12T13:31:29.716Z"
   },
   {
    "duration": 1239,
    "start_time": "2021-10-12T13:34:19.056Z"
   },
   {
    "duration": 3316,
    "start_time": "2021-10-12T13:34:36.593Z"
   },
   {
    "duration": 31,
    "start_time": "2021-10-12T13:35:44.225Z"
   },
   {
    "duration": 22,
    "start_time": "2021-10-12T13:37:48.776Z"
   },
   {
    "duration": 835,
    "start_time": "2021-10-13T06:41:51.268Z"
   },
   {
    "duration": 17,
    "start_time": "2021-10-13T06:41:52.107Z"
   },
   {
    "duration": 76,
    "start_time": "2021-10-13T06:41:52.132Z"
   },
   {
    "duration": 15,
    "start_time": "2021-10-13T06:41:52.212Z"
   },
   {
    "duration": 16,
    "start_time": "2021-10-13T06:41:52.230Z"
   },
   {
    "duration": 26,
    "start_time": "2021-10-13T06:41:52.282Z"
   },
   {
    "duration": 13,
    "start_time": "2021-10-13T06:41:52.314Z"
   },
   {
    "duration": 6,
    "start_time": "2021-10-13T06:41:52.330Z"
   },
   {
    "duration": 59,
    "start_time": "2021-10-13T06:41:52.339Z"
   },
   {
    "duration": 18,
    "start_time": "2021-10-13T06:41:52.401Z"
   },
   {
    "duration": 13,
    "start_time": "2021-10-13T06:41:52.423Z"
   },
   {
    "duration": 66,
    "start_time": "2021-10-13T06:41:52.438Z"
   },
   {
    "duration": 12,
    "start_time": "2021-10-13T06:41:52.507Z"
   },
   {
    "duration": 12,
    "start_time": "2021-10-13T06:41:52.522Z"
   },
   {
    "duration": 11,
    "start_time": "2021-10-13T06:41:52.537Z"
   },
   {
    "duration": 11,
    "start_time": "2021-10-13T06:41:52.583Z"
   },
   {
    "duration": 19,
    "start_time": "2021-10-13T06:41:52.597Z"
   },
   {
    "duration": 10,
    "start_time": "2021-10-13T06:41:52.618Z"
   },
   {
    "duration": 57,
    "start_time": "2021-10-13T06:41:52.631Z"
   },
   {
    "duration": 14,
    "start_time": "2021-10-13T06:41:52.691Z"
   },
   {
    "duration": 10,
    "start_time": "2021-10-13T06:41:52.708Z"
   },
   {
    "duration": 20,
    "start_time": "2021-10-13T06:41:52.724Z"
   },
   {
    "duration": 9,
    "start_time": "2021-10-13T06:41:52.784Z"
   },
   {
    "duration": 7,
    "start_time": "2021-10-13T06:41:52.796Z"
   },
   {
    "duration": 13,
    "start_time": "2021-10-13T06:41:52.806Z"
   },
   {
    "duration": 8,
    "start_time": "2021-10-13T06:41:52.821Z"
   },
   {
    "duration": 6,
    "start_time": "2021-10-13T06:41:52.883Z"
   },
   {
    "duration": 7,
    "start_time": "2021-10-13T06:41:52.891Z"
   },
   {
    "duration": 5,
    "start_time": "2021-10-13T06:41:52.900Z"
   },
   {
    "duration": 10,
    "start_time": "2021-10-13T06:41:52.907Z"
   },
   {
    "duration": 765,
    "start_time": "2021-10-13T06:41:52.919Z"
   },
   {
    "duration": 4855,
    "start_time": "2021-10-13T06:41:53.687Z"
   },
   {
    "duration": 46,
    "start_time": "2021-10-13T06:41:58.545Z"
   },
   {
    "duration": 20,
    "start_time": "2021-10-13T06:41:58.594Z"
   },
   {
    "duration": 20,
    "start_time": "2021-10-13T06:41:58.617Z"
   },
   {
    "duration": 44,
    "start_time": "2021-10-13T06:41:58.640Z"
   },
   {
    "duration": 24,
    "start_time": "2021-10-13T06:41:58.687Z"
   },
   {
    "duration": 22,
    "start_time": "2021-10-13T06:41:58.713Z"
   },
   {
    "duration": 9,
    "start_time": "2021-10-13T06:41:58.738Z"
   },
   {
    "duration": 39,
    "start_time": "2021-10-13T06:41:58.750Z"
   },
   {
    "duration": 26,
    "start_time": "2021-10-13T06:41:58.791Z"
   },
   {
    "duration": 28,
    "start_time": "2021-10-13T06:41:58.820Z"
   },
   {
    "duration": 2892,
    "start_time": "2021-10-13T06:41:58.851Z"
   },
   {
    "duration": 40,
    "start_time": "2021-10-13T06:42:01.745Z"
   },
   {
    "duration": 21,
    "start_time": "2021-10-13T06:42:01.787Z"
   }
  ],
  "kernelspec": {
   "display_name": "Python 3 (ipykernel)",
   "language": "python",
   "name": "python3"
  },
  "language_info": {
   "codemirror_mode": {
    "name": "ipython",
    "version": 3
   },
   "file_extension": ".py",
   "mimetype": "text/x-python",
   "name": "python",
   "nbconvert_exporter": "python",
   "pygments_lexer": "ipython3",
   "version": "3.9.7"
  },
  "toc": {
   "base_numbering": 1,
   "nav_menu": {},
   "number_sections": true,
   "sideBar": true,
   "skip_h1_title": true,
   "title_cell": "Table of Contents",
   "title_sidebar": "Contents",
   "toc_cell": false,
   "toc_position": {},
   "toc_section_display": true,
   "toc_window_display": false
  }
 },
 "nbformat": 4,
 "nbformat_minor": 2
}
